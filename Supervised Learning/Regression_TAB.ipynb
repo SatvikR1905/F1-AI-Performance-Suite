{
  "nbformat": 4,
  "nbformat_minor": 0,
  "metadata": {
    "colab": {
      "provenance": []
    },
    "kernelspec": {
      "name": "python3",
      "display_name": "Python 3"
    },
    "language_info": {
      "name": "python"
    }
  },
  "cells": [
    {
      "cell_type": "code",
      "execution_count": 98,
      "metadata": {
        "id": "YJanoa8GP7gB"
      },
      "outputs": [],
      "source": [
        "import numpy as np\n",
        "import pandas as pd\n",
        "import matplotlib.pyplot as plt\n",
        "import seaborn as sns\n",
        "from sklearn.model_selection import train_test_split\n",
        "from sklearn.metrics import confusion_matrix\n",
        "from sklearn.metrics import ConfusionMatrixDisplay\n",
        "from sklearn.preprocessing import OrdinalEncoder\n",
        "from sklearn.metrics import accuracy_score, classification_report\n",
        "from sklearn.metrics import confusion_matrix, accuracy_score, classification_report\n",
        "from sklearn.preprocessing import StandardScaler\n",
        "from sklearn.linear_model import LogisticRegression\n",
        "from sklearn.naive_bayes import MultinomialNB"
      ]
    },
    {
      "cell_type": "code",
      "source": [
        "df = pd.read_csv('/content/cleaned_f1_data_New.csv')"
      ],
      "metadata": {
        "id": "DzSN4xAjQroP"
      },
      "execution_count": 99,
      "outputs": []
    },
    {
      "cell_type": "code",
      "source": [
        "df.head()"
      ],
      "metadata": {
        "id": "jqlHQr11Qrq4",
        "colab": {
          "base_uri": "https://localhost:8080/",
          "height": 463
        },
        "outputId": "e1b577de-9425-4501-e5df-1ddaf6853425"
      },
      "execution_count": 100,
      "outputs": [
        {
          "output_type": "execute_result",
          "data": {
            "text/plain": [
              "   Season  Round           Race Name        Date              Circuit Country  \\\n",
              "0    1950      1  British Grand Prix  1950-05-13  Silverstone Circuit      UK   \n",
              "1    1950      1  British Grand Prix  1950-05-13  Silverstone Circuit      UK   \n",
              "2    1950      1  British Grand Prix  1950-05-13  Silverstone Circuit      UK   \n",
              "3    1950      1  British Grand Prix  1950-05-13  Silverstone Circuit      UK   \n",
              "4    1950      1  British Grand Prix  1950-05-13  Silverstone Circuit      UK   \n",
              "\n",
              "   Latitude  Longitude              Driver Driver Nationality  ...  \\\n",
              "0   52.0786   -1.01694          Bob Gerard            British  ...   \n",
              "1   52.0786   -1.01694       Cuth Harrison            British  ...   \n",
              "2   52.0786   -1.01694     David Hampshire            British  ...   \n",
              "3   52.0786   -1.01694  Brian Shawe Taylor            British  ...   \n",
              "4   52.0786   -1.01694             Joe Fry            British  ...   \n",
              "\n",
              "   Constructor  Constructor Nationality  Grid Position  Race Position  \\\n",
              "0          ERA                  British             13              6   \n",
              "1          ERA                  British             15              7   \n",
              "2     Maserati                  Italian             16              9   \n",
              "3     Maserati                  Italian             20             10   \n",
              "4     Maserati                  Italian             20             10   \n",
              "\n",
              "   Points Earned Fastest Lap (s) Fastest Lap Rank  Total Pit Stops  \\\n",
              "0            0.0       93.053598               -1               -1   \n",
              "1            0.0       93.053598               -1               -1   \n",
              "2            0.0       93.053598               -1               -1   \n",
              "3            0.0       93.053598               -1               -1   \n",
              "4            0.0       93.053598               -1               -1   \n",
              "\n",
              "   Race Laps Completed  Retirement Status  \n",
              "0                   67           Finished  \n",
              "1                   67           Finished  \n",
              "2                   64           Finished  \n",
              "3                   64           Finished  \n",
              "4                   64           Finished  \n",
              "\n",
              "[5 rows x 25 columns]"
            ],
            "text/html": [
              "\n",
              "  <div id=\"df-3ef4dda1-0f42-455f-a20d-7f013e5085e3\" class=\"colab-df-container\">\n",
              "    <div>\n",
              "<style scoped>\n",
              "    .dataframe tbody tr th:only-of-type {\n",
              "        vertical-align: middle;\n",
              "    }\n",
              "\n",
              "    .dataframe tbody tr th {\n",
              "        vertical-align: top;\n",
              "    }\n",
              "\n",
              "    .dataframe thead th {\n",
              "        text-align: right;\n",
              "    }\n",
              "</style>\n",
              "<table border=\"1\" class=\"dataframe\">\n",
              "  <thead>\n",
              "    <tr style=\"text-align: right;\">\n",
              "      <th></th>\n",
              "      <th>Season</th>\n",
              "      <th>Round</th>\n",
              "      <th>Race Name</th>\n",
              "      <th>Date</th>\n",
              "      <th>Circuit</th>\n",
              "      <th>Country</th>\n",
              "      <th>Latitude</th>\n",
              "      <th>Longitude</th>\n",
              "      <th>Driver</th>\n",
              "      <th>Driver Nationality</th>\n",
              "      <th>...</th>\n",
              "      <th>Constructor</th>\n",
              "      <th>Constructor Nationality</th>\n",
              "      <th>Grid Position</th>\n",
              "      <th>Race Position</th>\n",
              "      <th>Points Earned</th>\n",
              "      <th>Fastest Lap (s)</th>\n",
              "      <th>Fastest Lap Rank</th>\n",
              "      <th>Total Pit Stops</th>\n",
              "      <th>Race Laps Completed</th>\n",
              "      <th>Retirement Status</th>\n",
              "    </tr>\n",
              "  </thead>\n",
              "  <tbody>\n",
              "    <tr>\n",
              "      <th>0</th>\n",
              "      <td>1950</td>\n",
              "      <td>1</td>\n",
              "      <td>British Grand Prix</td>\n",
              "      <td>1950-05-13</td>\n",
              "      <td>Silverstone Circuit</td>\n",
              "      <td>UK</td>\n",
              "      <td>52.0786</td>\n",
              "      <td>-1.01694</td>\n",
              "      <td>Bob Gerard</td>\n",
              "      <td>British</td>\n",
              "      <td>...</td>\n",
              "      <td>ERA</td>\n",
              "      <td>British</td>\n",
              "      <td>13</td>\n",
              "      <td>6</td>\n",
              "      <td>0.0</td>\n",
              "      <td>93.053598</td>\n",
              "      <td>-1</td>\n",
              "      <td>-1</td>\n",
              "      <td>67</td>\n",
              "      <td>Finished</td>\n",
              "    </tr>\n",
              "    <tr>\n",
              "      <th>1</th>\n",
              "      <td>1950</td>\n",
              "      <td>1</td>\n",
              "      <td>British Grand Prix</td>\n",
              "      <td>1950-05-13</td>\n",
              "      <td>Silverstone Circuit</td>\n",
              "      <td>UK</td>\n",
              "      <td>52.0786</td>\n",
              "      <td>-1.01694</td>\n",
              "      <td>Cuth Harrison</td>\n",
              "      <td>British</td>\n",
              "      <td>...</td>\n",
              "      <td>ERA</td>\n",
              "      <td>British</td>\n",
              "      <td>15</td>\n",
              "      <td>7</td>\n",
              "      <td>0.0</td>\n",
              "      <td>93.053598</td>\n",
              "      <td>-1</td>\n",
              "      <td>-1</td>\n",
              "      <td>67</td>\n",
              "      <td>Finished</td>\n",
              "    </tr>\n",
              "    <tr>\n",
              "      <th>2</th>\n",
              "      <td>1950</td>\n",
              "      <td>1</td>\n",
              "      <td>British Grand Prix</td>\n",
              "      <td>1950-05-13</td>\n",
              "      <td>Silverstone Circuit</td>\n",
              "      <td>UK</td>\n",
              "      <td>52.0786</td>\n",
              "      <td>-1.01694</td>\n",
              "      <td>David Hampshire</td>\n",
              "      <td>British</td>\n",
              "      <td>...</td>\n",
              "      <td>Maserati</td>\n",
              "      <td>Italian</td>\n",
              "      <td>16</td>\n",
              "      <td>9</td>\n",
              "      <td>0.0</td>\n",
              "      <td>93.053598</td>\n",
              "      <td>-1</td>\n",
              "      <td>-1</td>\n",
              "      <td>64</td>\n",
              "      <td>Finished</td>\n",
              "    </tr>\n",
              "    <tr>\n",
              "      <th>3</th>\n",
              "      <td>1950</td>\n",
              "      <td>1</td>\n",
              "      <td>British Grand Prix</td>\n",
              "      <td>1950-05-13</td>\n",
              "      <td>Silverstone Circuit</td>\n",
              "      <td>UK</td>\n",
              "      <td>52.0786</td>\n",
              "      <td>-1.01694</td>\n",
              "      <td>Brian Shawe Taylor</td>\n",
              "      <td>British</td>\n",
              "      <td>...</td>\n",
              "      <td>Maserati</td>\n",
              "      <td>Italian</td>\n",
              "      <td>20</td>\n",
              "      <td>10</td>\n",
              "      <td>0.0</td>\n",
              "      <td>93.053598</td>\n",
              "      <td>-1</td>\n",
              "      <td>-1</td>\n",
              "      <td>64</td>\n",
              "      <td>Finished</td>\n",
              "    </tr>\n",
              "    <tr>\n",
              "      <th>4</th>\n",
              "      <td>1950</td>\n",
              "      <td>1</td>\n",
              "      <td>British Grand Prix</td>\n",
              "      <td>1950-05-13</td>\n",
              "      <td>Silverstone Circuit</td>\n",
              "      <td>UK</td>\n",
              "      <td>52.0786</td>\n",
              "      <td>-1.01694</td>\n",
              "      <td>Joe Fry</td>\n",
              "      <td>British</td>\n",
              "      <td>...</td>\n",
              "      <td>Maserati</td>\n",
              "      <td>Italian</td>\n",
              "      <td>20</td>\n",
              "      <td>10</td>\n",
              "      <td>0.0</td>\n",
              "      <td>93.053598</td>\n",
              "      <td>-1</td>\n",
              "      <td>-1</td>\n",
              "      <td>64</td>\n",
              "      <td>Finished</td>\n",
              "    </tr>\n",
              "  </tbody>\n",
              "</table>\n",
              "<p>5 rows × 25 columns</p>\n",
              "</div>\n",
              "    <div class=\"colab-df-buttons\">\n",
              "\n",
              "  <div class=\"colab-df-container\">\n",
              "    <button class=\"colab-df-convert\" onclick=\"convertToInteractive('df-3ef4dda1-0f42-455f-a20d-7f013e5085e3')\"\n",
              "            title=\"Convert this dataframe to an interactive table.\"\n",
              "            style=\"display:none;\">\n",
              "\n",
              "  <svg xmlns=\"http://www.w3.org/2000/svg\" height=\"24px\" viewBox=\"0 -960 960 960\">\n",
              "    <path d=\"M120-120v-720h720v720H120Zm60-500h600v-160H180v160Zm220 220h160v-160H400v160Zm0 220h160v-160H400v160ZM180-400h160v-160H180v160Zm440 0h160v-160H620v160ZM180-180h160v-160H180v160Zm440 0h160v-160H620v160Z\"/>\n",
              "  </svg>\n",
              "    </button>\n",
              "\n",
              "  <style>\n",
              "    .colab-df-container {\n",
              "      display:flex;\n",
              "      gap: 12px;\n",
              "    }\n",
              "\n",
              "    .colab-df-convert {\n",
              "      background-color: #E8F0FE;\n",
              "      border: none;\n",
              "      border-radius: 50%;\n",
              "      cursor: pointer;\n",
              "      display: none;\n",
              "      fill: #1967D2;\n",
              "      height: 32px;\n",
              "      padding: 0 0 0 0;\n",
              "      width: 32px;\n",
              "    }\n",
              "\n",
              "    .colab-df-convert:hover {\n",
              "      background-color: #E2EBFA;\n",
              "      box-shadow: 0px 1px 2px rgba(60, 64, 67, 0.3), 0px 1px 3px 1px rgba(60, 64, 67, 0.15);\n",
              "      fill: #174EA6;\n",
              "    }\n",
              "\n",
              "    .colab-df-buttons div {\n",
              "      margin-bottom: 4px;\n",
              "    }\n",
              "\n",
              "    [theme=dark] .colab-df-convert {\n",
              "      background-color: #3B4455;\n",
              "      fill: #D2E3FC;\n",
              "    }\n",
              "\n",
              "    [theme=dark] .colab-df-convert:hover {\n",
              "      background-color: #434B5C;\n",
              "      box-shadow: 0px 1px 3px 1px rgba(0, 0, 0, 0.15);\n",
              "      filter: drop-shadow(0px 1px 2px rgba(0, 0, 0, 0.3));\n",
              "      fill: #FFFFFF;\n",
              "    }\n",
              "  </style>\n",
              "\n",
              "    <script>\n",
              "      const buttonEl =\n",
              "        document.querySelector('#df-3ef4dda1-0f42-455f-a20d-7f013e5085e3 button.colab-df-convert');\n",
              "      buttonEl.style.display =\n",
              "        google.colab.kernel.accessAllowed ? 'block' : 'none';\n",
              "\n",
              "      async function convertToInteractive(key) {\n",
              "        const element = document.querySelector('#df-3ef4dda1-0f42-455f-a20d-7f013e5085e3');\n",
              "        const dataTable =\n",
              "          await google.colab.kernel.invokeFunction('convertToInteractive',\n",
              "                                                    [key], {});\n",
              "        if (!dataTable) return;\n",
              "\n",
              "        const docLinkHtml = 'Like what you see? Visit the ' +\n",
              "          '<a target=\"_blank\" href=https://colab.research.google.com/notebooks/data_table.ipynb>data table notebook</a>'\n",
              "          + ' to learn more about interactive tables.';\n",
              "        element.innerHTML = '';\n",
              "        dataTable['output_type'] = 'display_data';\n",
              "        await google.colab.output.renderOutput(dataTable, element);\n",
              "        const docLink = document.createElement('div');\n",
              "        docLink.innerHTML = docLinkHtml;\n",
              "        element.appendChild(docLink);\n",
              "      }\n",
              "    </script>\n",
              "  </div>\n",
              "\n",
              "\n",
              "<div id=\"df-e3adf53b-2b49-4d3a-8fa9-823efed8a3be\">\n",
              "  <button class=\"colab-df-quickchart\" onclick=\"quickchart('df-e3adf53b-2b49-4d3a-8fa9-823efed8a3be')\"\n",
              "            title=\"Suggest charts\"\n",
              "            style=\"display:none;\">\n",
              "\n",
              "<svg xmlns=\"http://www.w3.org/2000/svg\" height=\"24px\"viewBox=\"0 0 24 24\"\n",
              "     width=\"24px\">\n",
              "    <g>\n",
              "        <path d=\"M19 3H5c-1.1 0-2 .9-2 2v14c0 1.1.9 2 2 2h14c1.1 0 2-.9 2-2V5c0-1.1-.9-2-2-2zM9 17H7v-7h2v7zm4 0h-2V7h2v10zm4 0h-2v-4h2v4z\"/>\n",
              "    </g>\n",
              "</svg>\n",
              "  </button>\n",
              "\n",
              "<style>\n",
              "  .colab-df-quickchart {\n",
              "      --bg-color: #E8F0FE;\n",
              "      --fill-color: #1967D2;\n",
              "      --hover-bg-color: #E2EBFA;\n",
              "      --hover-fill-color: #174EA6;\n",
              "      --disabled-fill-color: #AAA;\n",
              "      --disabled-bg-color: #DDD;\n",
              "  }\n",
              "\n",
              "  [theme=dark] .colab-df-quickchart {\n",
              "      --bg-color: #3B4455;\n",
              "      --fill-color: #D2E3FC;\n",
              "      --hover-bg-color: #434B5C;\n",
              "      --hover-fill-color: #FFFFFF;\n",
              "      --disabled-bg-color: #3B4455;\n",
              "      --disabled-fill-color: #666;\n",
              "  }\n",
              "\n",
              "  .colab-df-quickchart {\n",
              "    background-color: var(--bg-color);\n",
              "    border: none;\n",
              "    border-radius: 50%;\n",
              "    cursor: pointer;\n",
              "    display: none;\n",
              "    fill: var(--fill-color);\n",
              "    height: 32px;\n",
              "    padding: 0;\n",
              "    width: 32px;\n",
              "  }\n",
              "\n",
              "  .colab-df-quickchart:hover {\n",
              "    background-color: var(--hover-bg-color);\n",
              "    box-shadow: 0 1px 2px rgba(60, 64, 67, 0.3), 0 1px 3px 1px rgba(60, 64, 67, 0.15);\n",
              "    fill: var(--button-hover-fill-color);\n",
              "  }\n",
              "\n",
              "  .colab-df-quickchart-complete:disabled,\n",
              "  .colab-df-quickchart-complete:disabled:hover {\n",
              "    background-color: var(--disabled-bg-color);\n",
              "    fill: var(--disabled-fill-color);\n",
              "    box-shadow: none;\n",
              "  }\n",
              "\n",
              "  .colab-df-spinner {\n",
              "    border: 2px solid var(--fill-color);\n",
              "    border-color: transparent;\n",
              "    border-bottom-color: var(--fill-color);\n",
              "    animation:\n",
              "      spin 1s steps(1) infinite;\n",
              "  }\n",
              "\n",
              "  @keyframes spin {\n",
              "    0% {\n",
              "      border-color: transparent;\n",
              "      border-bottom-color: var(--fill-color);\n",
              "      border-left-color: var(--fill-color);\n",
              "    }\n",
              "    20% {\n",
              "      border-color: transparent;\n",
              "      border-left-color: var(--fill-color);\n",
              "      border-top-color: var(--fill-color);\n",
              "    }\n",
              "    30% {\n",
              "      border-color: transparent;\n",
              "      border-left-color: var(--fill-color);\n",
              "      border-top-color: var(--fill-color);\n",
              "      border-right-color: var(--fill-color);\n",
              "    }\n",
              "    40% {\n",
              "      border-color: transparent;\n",
              "      border-right-color: var(--fill-color);\n",
              "      border-top-color: var(--fill-color);\n",
              "    }\n",
              "    60% {\n",
              "      border-color: transparent;\n",
              "      border-right-color: var(--fill-color);\n",
              "    }\n",
              "    80% {\n",
              "      border-color: transparent;\n",
              "      border-right-color: var(--fill-color);\n",
              "      border-bottom-color: var(--fill-color);\n",
              "    }\n",
              "    90% {\n",
              "      border-color: transparent;\n",
              "      border-bottom-color: var(--fill-color);\n",
              "    }\n",
              "  }\n",
              "</style>\n",
              "\n",
              "  <script>\n",
              "    async function quickchart(key) {\n",
              "      const quickchartButtonEl =\n",
              "        document.querySelector('#' + key + ' button');\n",
              "      quickchartButtonEl.disabled = true;  // To prevent multiple clicks.\n",
              "      quickchartButtonEl.classList.add('colab-df-spinner');\n",
              "      try {\n",
              "        const charts = await google.colab.kernel.invokeFunction(\n",
              "            'suggestCharts', [key], {});\n",
              "      } catch (error) {\n",
              "        console.error('Error during call to suggestCharts:', error);\n",
              "      }\n",
              "      quickchartButtonEl.classList.remove('colab-df-spinner');\n",
              "      quickchartButtonEl.classList.add('colab-df-quickchart-complete');\n",
              "    }\n",
              "    (() => {\n",
              "      let quickchartButtonEl =\n",
              "        document.querySelector('#df-e3adf53b-2b49-4d3a-8fa9-823efed8a3be button');\n",
              "      quickchartButtonEl.style.display =\n",
              "        google.colab.kernel.accessAllowed ? 'block' : 'none';\n",
              "    })();\n",
              "  </script>\n",
              "</div>\n",
              "\n",
              "    </div>\n",
              "  </div>\n"
            ],
            "application/vnd.google.colaboratory.intrinsic+json": {
              "type": "dataframe",
              "variable_name": "df"
            }
          },
          "metadata": {},
          "execution_count": 100
        }
      ]
    },
    {
      "cell_type": "code",
      "source": [
        "to_drop = ['Driver Championship Points','Latitude', 'Longitude','Driver Experience (Years)', 'Driver Fastest Lap Time', 'Driver Fastest Lap Rank', 'Points Earned', 'Fastest Lap (s)', 'Fastest Lap Rank', 'Total Pit Stops','Date','Country','Driver Nationality','Round','Season']\n",
        "df = df.drop(columns=to_drop, errors='ignore')\n",
        "df.columns"
      ],
      "metadata": {
        "id": "ih0P-xefQrtK",
        "colab": {
          "base_uri": "https://localhost:8080/"
        },
        "outputId": "872f4807-3913-4f60-9415-ef54a7c8486f"
      },
      "execution_count": 101,
      "outputs": [
        {
          "output_type": "execute_result",
          "data": {
            "text/plain": [
              "Index(['Race Name', 'Circuit', 'Driver', 'Driver Age', 'Constructor',\n",
              "       'Constructor Nationality', 'Grid Position', 'Race Position',\n",
              "       'Race Laps Completed', 'Retirement Status'],\n",
              "      dtype='object')"
            ]
          },
          "metadata": {},
          "execution_count": 101
        }
      ]
    },
    {
      "cell_type": "code",
      "source": [
        "categorical_columns = df.select_dtypes(include=['object', 'category']).columns\n",
        "print(\"Categorical Columns:\", categorical_columns)"
      ],
      "metadata": {
        "id": "tNCNxFoCQrwT",
        "colab": {
          "base_uri": "https://localhost:8080/"
        },
        "outputId": "a54c0828-ad7d-4fce-bfdd-65291dce62cb"
      },
      "execution_count": 102,
      "outputs": [
        {
          "output_type": "stream",
          "name": "stdout",
          "text": [
            "Categorical Columns: Index(['Race Name', 'Circuit', 'Driver', 'Constructor',\n",
            "       'Constructor Nationality', 'Retirement Status'],\n",
            "      dtype='object')\n"
          ]
        }
      ]
    },
    {
      "cell_type": "code",
      "source": [
        "numeric_columns = df.select_dtypes(include=['number']).columns\n",
        "print(\"Numeric Columns:\", numeric_columns)"
      ],
      "metadata": {
        "id": "b8Uj72xEQry2",
        "colab": {
          "base_uri": "https://localhost:8080/"
        },
        "outputId": "0941b2be-b2ac-4d00-ce43-b0bb594d0239"
      },
      "execution_count": 103,
      "outputs": [
        {
          "output_type": "stream",
          "name": "stdout",
          "text": [
            "Numeric Columns: Index(['Driver Age', 'Grid Position', 'Race Position', 'Race Laps Completed'], dtype='object')\n"
          ]
        }
      ]
    },
    {
      "cell_type": "code",
      "source": [
        "def categorize_positions(df):\n",
        "    # Create a new binary category column\n",
        "    df['Finishers'] = ''\n",
        "\n",
        "\n",
        "    df.loc[df['Race Position'] <= 8, 'Finishers'] = 'Top Finishers'\n",
        "    df.loc[df['Race Position'] > 8, 'Finishers'] = 'Rest of the Grid'\n",
        "\n",
        "\n",
        "    return df"
      ],
      "metadata": {
        "id": "2rWjqWnab6H2"
      },
      "execution_count": 104,
      "outputs": []
    },
    {
      "cell_type": "code",
      "source": [
        "df = categorize_positions(df)"
      ],
      "metadata": {
        "id": "Ro0xkoZVb6KQ"
      },
      "execution_count": 105,
      "outputs": []
    },
    {
      "cell_type": "code",
      "source": [
        "df['Finishers'].value_counts()"
      ],
      "metadata": {
        "colab": {
          "base_uri": "https://localhost:8080/",
          "height": 178
        },
        "id": "4ileGTQvb6Me",
        "outputId": "2dff84f6-dad3-467b-fc55-7672d2496364"
      },
      "execution_count": 106,
      "outputs": [
        {
          "output_type": "execute_result",
          "data": {
            "text/plain": [
              "Finishers\n",
              "Rest of the Grid    3144\n",
              "Top Finishers        472\n",
              "Name: count, dtype: int64"
            ],
            "text/html": [
              "<div>\n",
              "<style scoped>\n",
              "    .dataframe tbody tr th:only-of-type {\n",
              "        vertical-align: middle;\n",
              "    }\n",
              "\n",
              "    .dataframe tbody tr th {\n",
              "        vertical-align: top;\n",
              "    }\n",
              "\n",
              "    .dataframe thead th {\n",
              "        text-align: right;\n",
              "    }\n",
              "</style>\n",
              "<table border=\"1\" class=\"dataframe\">\n",
              "  <thead>\n",
              "    <tr style=\"text-align: right;\">\n",
              "      <th></th>\n",
              "      <th>count</th>\n",
              "    </tr>\n",
              "    <tr>\n",
              "      <th>Finishers</th>\n",
              "      <th></th>\n",
              "    </tr>\n",
              "  </thead>\n",
              "  <tbody>\n",
              "    <tr>\n",
              "      <th>Rest of the Grid</th>\n",
              "      <td>3144</td>\n",
              "    </tr>\n",
              "    <tr>\n",
              "      <th>Top Finishers</th>\n",
              "      <td>472</td>\n",
              "    </tr>\n",
              "  </tbody>\n",
              "</table>\n",
              "</div><br><label><b>dtype:</b> int64</label>"
            ]
          },
          "metadata": {},
          "execution_count": 106
        }
      ]
    },
    {
      "cell_type": "code",
      "source": [
        "Points_Category=[\"Rest of the Grid\", \"Top Finishers\"]\n",
        "MyOrdEncoder=OrdinalEncoder(categories=[Points_Category])\n",
        "df[\"Finishers\"]=MyOrdEncoder.fit_transform(df[[\"Finishers\"]])\n",
        "print(df)"
      ],
      "metadata": {
        "colab": {
          "base_uri": "https://localhost:8080/"
        },
        "id": "P9u5qFAQb6O2",
        "outputId": "9cfa6251-eb00-4338-9de5-0d6c8bc3e1b7"
      },
      "execution_count": 107,
      "outputs": [
        {
          "output_type": "stream",
          "name": "stdout",
          "text": [
            "                      Race Name                             Circuit  \\\n",
            "0            British Grand Prix                 Silverstone Circuit   \n",
            "1            British Grand Prix                 Silverstone Circuit   \n",
            "2            British Grand Prix                 Silverstone Circuit   \n",
            "3            British Grand Prix                 Silverstone Circuit   \n",
            "4            British Grand Prix                 Silverstone Circuit   \n",
            "...                         ...                                 ...   \n",
            "3611      Portuguese Grand Prix  Autódromo Internacional do Algarve   \n",
            "3612          Monaco Grand Prix                   Circuit de Monaco   \n",
            "3613   Saudi Arabian Grand Prix             Jeddah Corniche Circuit   \n",
            "3614   Saudi Arabian Grand Prix             Jeddah Corniche Circuit   \n",
            "3615  Emilia Romagna Grand Prix       Autodromo Enzo e Dino Ferrari   \n",
            "\n",
            "                  Driver  Driver Age   Constructor Constructor Nationality  \\\n",
            "0             Bob Gerard          36           ERA                 British   \n",
            "1          Cuth Harrison          44           ERA                 British   \n",
            "2        David Hampshire          33      Maserati                 Italian   \n",
            "3     Brian Shawe Taylor          35      Maserati                 Italian   \n",
            "4                Joe Fry          35      Maserati                 Italian   \n",
            "...                  ...         ...           ...                     ...   \n",
            "3611      Kimi Räikkönen          42    Alfa Romeo                   Swiss   \n",
            "3612     Charles Leclerc          24       Ferrari                 Italian   \n",
            "3613        Yuki Tsunoda          22    AlphaTauri                 Italian   \n",
            "3614     Mick Schumacher          23  Haas F1 Team                American   \n",
            "3615        Carlos Sainz          28       Ferrari                 Italian   \n",
            "\n",
            "      Grid Position  Race Position  Race Laps Completed Retirement Status  \\\n",
            "0                13              6                   67          Finished   \n",
            "1                15              7                   67          Finished   \n",
            "2                16              9                   64          Finished   \n",
            "3                20             10                   64          Finished   \n",
            "4                20             10                   64          Finished   \n",
            "...             ...            ...                  ...               ...   \n",
            "3611             15             20                    1           Retired   \n",
            "3612              1             20                    0           Retired   \n",
            "3613             19             19                    0           Retired   \n",
            "3614              0             20                    0           Retired   \n",
            "3615              4             20                    0           Retired   \n",
            "\n",
            "      Finishers  \n",
            "0           1.0  \n",
            "1           1.0  \n",
            "2           0.0  \n",
            "3           0.0  \n",
            "4           0.0  \n",
            "...         ...  \n",
            "3611        0.0  \n",
            "3612        0.0  \n",
            "3613        0.0  \n",
            "3614        0.0  \n",
            "3615        0.0  \n",
            "\n",
            "[3616 rows x 11 columns]\n"
          ]
        }
      ]
    },
    {
      "cell_type": "code",
      "source": [
        "categorical_cols = df.select_dtypes(include=['object', 'category']).columns.tolist()\n",
        "print(\"Categorical Columns:\", categorical_cols)\n",
        "\n",
        "categories_list = [df[col].unique().tolist() for col in categorical_cols]\n",
        "\n",
        "encoder = OrdinalEncoder(categories=categories_list)\n",
        "df[categorical_cols] = encoder.fit_transform(df[categorical_cols])\n",
        "\n",
        "print(df.head())"
      ],
      "metadata": {
        "colab": {
          "base_uri": "https://localhost:8080/"
        },
        "id": "Hp5gWfhNb6RK",
        "outputId": "d5839ef8-3a20-49da-a446-afed256fd8a0"
      },
      "execution_count": 108,
      "outputs": [
        {
          "output_type": "stream",
          "name": "stdout",
          "text": [
            "Categorical Columns: ['Race Name', 'Circuit', 'Driver', 'Constructor', 'Constructor Nationality', 'Retirement Status']\n",
            "   Race Name  Circuit  Driver  Driver Age  Constructor  \\\n",
            "0        0.0      0.0     0.0          36          0.0   \n",
            "1        0.0      0.0     1.0          44          0.0   \n",
            "2        0.0      0.0     2.0          33          1.0   \n",
            "3        0.0      0.0     3.0          35          1.0   \n",
            "4        0.0      0.0     4.0          35          1.0   \n",
            "\n",
            "   Constructor Nationality  Grid Position  Race Position  Race Laps Completed  \\\n",
            "0                      0.0             13              6                   67   \n",
            "1                      0.0             15              7                   67   \n",
            "2                      1.0             16              9                   64   \n",
            "3                      1.0             20             10                   64   \n",
            "4                      1.0             20             10                   64   \n",
            "\n",
            "   Retirement Status  Finishers  \n",
            "0                0.0        1.0  \n",
            "1                0.0        1.0  \n",
            "2                0.0        0.0  \n",
            "3                0.0        0.0  \n",
            "4                0.0        0.0  \n"
          ]
        }
      ]
    },
    {
      "cell_type": "code",
      "source": [
        "df.drop(['Race Position'], axis=1, inplace=True)"
      ],
      "metadata": {
        "id": "4HMPGOdwP48C"
      },
      "execution_count": 109,
      "outputs": []
    },
    {
      "cell_type": "markdown",
      "source": [
        "Logistic Regression"
      ],
      "metadata": {
        "id": "0q5prkdzPtwv"
      }
    },
    {
      "cell_type": "code",
      "source": [
        "X = df.drop(['Finishers'], axis=1)\n",
        "y = df['Finishers']"
      ],
      "metadata": {
        "id": "R7XEMNDLb6TZ"
      },
      "execution_count": 110,
      "outputs": []
    },
    {
      "cell_type": "code",
      "source": [
        "X_train, X_test, y_train, y_test = train_test_split(X, y, test_size=0.2, random_state=42)\n",
        "\n",
        "# Initialize and train logistic regression model\n",
        "log_model = LogisticRegression(max_iter=1000)\n",
        "log_model.fit(X_train, y_train)\n",
        "\n",
        "# Predict on test data\n",
        "y_pred = log_model.predict(X_test)\n",
        "\n",
        "# Evaluate the model\n",
        "accuracy = accuracy_score(y_test, y_pred)\n",
        "print(\"Accuracy:\", accuracy)\n",
        "print(\"Classification Report:\\n\", classification_report(y_test, y_pred))"
      ],
      "metadata": {
        "colab": {
          "base_uri": "https://localhost:8080/"
        },
        "id": "6eYce5vxb6Wp",
        "outputId": "a2269a64-efe4-4a21-afbe-0edce3045a9e"
      },
      "execution_count": 111,
      "outputs": [
        {
          "output_type": "stream",
          "name": "stdout",
          "text": [
            "Accuracy: 0.8908839779005525\n",
            "Classification Report:\n",
            "               precision    recall  f1-score   support\n",
            "\n",
            "         0.0       0.94      0.93      0.94       635\n",
            "         1.0       0.55      0.58      0.57        89\n",
            "\n",
            "    accuracy                           0.89       724\n",
            "   macro avg       0.75      0.76      0.75       724\n",
            "weighted avg       0.89      0.89      0.89       724\n",
            "\n"
          ]
        }
      ]
    },
    {
      "cell_type": "code",
      "source": [
        "print(\"Training Features (X_train):\")\n",
        "print(X_train)\n",
        "print(\"Shape:\", X_train.shape)\n",
        "\n",
        "print(\"\\nTraining Labels (y_train):\")\n",
        "print(y_train)\n",
        "print(\"Shape:\", y_train.shape)\n",
        "\n",
        "# Print testing set\n",
        "print(\"\\nTesting Features (X_test):\")\n",
        "print(X_test)\n",
        "print(\"Shape:\", X_test.shape)\n",
        "\n",
        "print(\"\\nTesting Labels (y_test):\")\n",
        "print(y_test)\n",
        "print(\"Shape:\", y_test.shape)"
      ],
      "metadata": {
        "colab": {
          "base_uri": "https://localhost:8080/"
        },
        "id": "qmx69wnNWNRg",
        "outputId": "5fd099de-938b-4451-9d31-91b067c8c288"
      },
      "execution_count": 112,
      "outputs": [
        {
          "output_type": "stream",
          "name": "stdout",
          "text": [
            "Training Features (X_train):\n",
            "      Race Name  Circuit  Driver  Driver Age  Constructor  \\\n",
            "2592       11.0     22.0   425.0          31        125.0   \n",
            "3216        6.0      7.0   473.0          28          5.0   \n",
            "1228        4.0      4.0   262.0          28         42.0   \n",
            "1234        7.0      8.0   306.0          26         87.0   \n",
            "794         1.0      1.0   222.0          27         46.0   \n",
            "...         ...      ...     ...         ...          ...   \n",
            "1130       10.0     17.0   237.0          33         73.0   \n",
            "1294        7.0      8.0   315.0          29         89.0   \n",
            "860         8.0     11.0   261.0          28         70.0   \n",
            "3507       10.0     28.0   509.0          22        114.0   \n",
            "3174       17.0     13.0   482.0          24        134.0   \n",
            "\n",
            "      Constructor Nationality  Grid Position  Race Laps Completed  \\\n",
            "2592                      5.0             17                   56   \n",
            "3216                      1.0              4                    0   \n",
            "1228                      0.0              2                   10   \n",
            "1234                      0.0             16                   78   \n",
            "794                       0.0             10                   17   \n",
            "...                       ...            ...                  ...   \n",
            "1130                      0.0              6                   30   \n",
            "1294                      0.0             21                   65   \n",
            "860                       0.0             19                   71   \n",
            "3507                      2.0              6                   60   \n",
            "3174                      0.0             13                   38   \n",
            "\n",
            "      Retirement Status  \n",
            "2592                1.0  \n",
            "3216                1.0  \n",
            "1228                1.0  \n",
            "1234                0.0  \n",
            "794                 1.0  \n",
            "...                 ...  \n",
            "1130                1.0  \n",
            "1294                0.0  \n",
            "860                 1.0  \n",
            "3507                1.0  \n",
            "3174                1.0  \n",
            "\n",
            "[2892 rows x 9 columns]\n",
            "Shape: (2892, 9)\n",
            "\n",
            "Training Labels (y_train):\n",
            "2592    0.0\n",
            "3216    0.0\n",
            "1228    0.0\n",
            "1234    0.0\n",
            "794     0.0\n",
            "       ... \n",
            "1130    0.0\n",
            "1294    1.0\n",
            "860     0.0\n",
            "3507    0.0\n",
            "3174    0.0\n",
            "Name: Finishers, Length: 2892, dtype: float64\n",
            "Shape: (2892,)\n",
            "\n",
            "Testing Features (X_test):\n",
            "      Race Name  Circuit  Driver  Driver Age  Constructor  \\\n",
            "2917        8.0     14.0   475.0          22         60.0   \n",
            "1255        8.0     14.0   270.0          35         63.0   \n",
            "2800       11.0     19.0   440.0          27        132.0   \n",
            "2144       11.0     22.0   324.0          37        109.0   \n",
            "1936       11.0     19.0   327.0          30          5.0   \n",
            "...         ...      ...     ...         ...          ...   \n",
            "176         6.0      7.0   102.0          30          7.0   \n",
            "1953        8.0     14.0   377.0          32        104.0   \n",
            "422         1.0      1.0   172.0          35         43.0   \n",
            "680         1.0      1.0   175.0          28         44.0   \n",
            "2588       11.0     22.0   399.0          33         92.0   \n",
            "\n",
            "      Constructor Nationality  Grid Position  Race Laps Completed  \\\n",
            "2917                      0.0             26                   20   \n",
            "1255                      0.0             16                   31   \n",
            "2800                      1.0              0                    0   \n",
            "2144                      2.0             12                   22   \n",
            "1936                      1.0              8                   10   \n",
            "...                       ...            ...                  ...   \n",
            "176                       0.0             13                   20   \n",
            "1953                     10.0             23                   58   \n",
            "422                       1.0              0                    0   \n",
            "680                       5.0              0                    0   \n",
            "2588                      0.0             20                   59   \n",
            "\n",
            "      Retirement Status  \n",
            "2917                1.0  \n",
            "1255                1.0  \n",
            "2800                1.0  \n",
            "2144                1.0  \n",
            "1936                1.0  \n",
            "...                 ...  \n",
            "176                 1.0  \n",
            "1953                1.0  \n",
            "422                 1.0  \n",
            "680                 1.0  \n",
            "2588                0.0  \n",
            "\n",
            "[724 rows x 9 columns]\n",
            "Shape: (724, 9)\n",
            "\n",
            "Testing Labels (y_test):\n",
            "2917    0.0\n",
            "1255    0.0\n",
            "2800    0.0\n",
            "2144    0.0\n",
            "1936    0.0\n",
            "       ... \n",
            "176     0.0\n",
            "1953    0.0\n",
            "422     0.0\n",
            "680     0.0\n",
            "2588    0.0\n",
            "Name: Finishers, Length: 724, dtype: float64\n",
            "Shape: (724,)\n"
          ]
        }
      ]
    },
    {
      "cell_type": "code",
      "source": [
        "# Save training features\n",
        "X_train.to_csv('X_train_R.csv', index=False)\n",
        "\n",
        "# Save training labels\n",
        "y_train.to_csv('y_train_R.csv', index=False)\n",
        "\n",
        "# Save testing features\n",
        "X_test.to_csv('X_test_R.csv', index=False)\n",
        "\n",
        "# Save testing labels\n",
        "y_test.to_csv('y_test_R.csv', index=False)\n"
      ],
      "metadata": {
        "id": "JZnw_DCVWRbX"
      },
      "execution_count": 113,
      "outputs": []
    },
    {
      "cell_type": "code",
      "source": [
        "# Calculate the confusion matrix\n",
        "cm = confusion_matrix(y_test, y_pred)\n",
        "\n",
        "# Display the confusion matrix\n",
        "print(\"Confusion Matrix:\\n\", cm)\n",
        "\n",
        "# Plot confusion matrix\n",
        "plt.figure(figsize=(6, 4))\n",
        "sns.heatmap(cm, annot=True, fmt=\"d\", cmap=\"Blues\", xticklabels=[\"Class 0\", \"Class 1\"], yticklabels=[\"Class 0\", \"Class 1\"])\n",
        "plt.xlabel(\"Predicted\")\n",
        "plt.ylabel(\"Actual\")\n",
        "plt.title(\"Confusion Matrix\")\n",
        "plt.show()"
      ],
      "metadata": {
        "colab": {
          "base_uri": "https://localhost:8080/",
          "height": 465
        },
        "id": "ESmuXGR63Rvw",
        "outputId": "ceb0d333-b0bc-4440-e0a9-c3e9737190a8"
      },
      "execution_count": 114,
      "outputs": [
        {
          "output_type": "stream",
          "name": "stdout",
          "text": [
            "Confusion Matrix:\n",
            " [[593  42]\n",
            " [ 37  52]]\n"
          ]
        },
        {
          "output_type": "display_data",
          "data": {
            "text/plain": [
              "<Figure size 600x400 with 2 Axes>"
            ],
            "image/png": "[encoded data removed]"
          },
          "metadata": {}
        }
      ]
    },
    {
      "cell_type": "markdown",
      "source": [
        "MultiNomial Naive Bayes Classification"
      ],
      "metadata": {
        "id": "9jYrnzHh2TVv"
      }
    },
    {
      "cell_type": "code",
      "source": [
        "X_train, X_test, y_train, y_test = train_test_split(X, y, test_size=0.2, random_state=42)\n",
        "\n",
        "# Initialize the Naive Bayes classifier\n",
        "mb_model = MultinomialNB()\n",
        "\n",
        "# Train the model\n",
        "mb_model.fit(X_train, y_train)\n",
        "\n",
        "# Predict on test data\n",
        "y_pred = mb_model.predict(X_test)\n",
        "\n",
        "# Evaluate the model\n",
        "print(\"Accuracy:\", accuracy_score(y_test, y_pred))\n",
        "print(\"Classification Report:\\n\", classification_report(y_test, y_pred))"
      ],
      "metadata": {
        "colab": {
          "base_uri": "https://localhost:8080/"
        },
        "id": "KV2IF3Zj2Skj",
        "outputId": "10ed1f4d-eda9-4454-dd3d-403d2a91f4a5"
      },
      "execution_count": 115,
      "outputs": [
        {
          "output_type": "stream",
          "name": "stdout",
          "text": [
            "Accuracy: 0.7182320441988951\n",
            "Classification Report:\n",
            "               precision    recall  f1-score   support\n",
            "\n",
            "         0.0       0.93      0.73      0.82       635\n",
            "         1.0       0.24      0.61      0.35        89\n",
            "\n",
            "    accuracy                           0.72       724\n",
            "   macro avg       0.59      0.67      0.58       724\n",
            "weighted avg       0.85      0.72      0.76       724\n",
            "\n"
          ]
        }
      ]
    },
    {
      "cell_type": "code",
      "source": [
        "# Calculate the confusion matrix\n",
        "cm = confusion_matrix(y_test, y_pred)\n",
        "\n",
        "# Display the confusion matrix\n",
        "print(\"Confusion Matrix:\\n\", cm)\n",
        "\n",
        "# Plot confusion matrix\n",
        "plt.figure(figsize=(6, 4))\n",
        "sns.heatmap(cm, annot=True, fmt=\"d\", cmap=\"Blues\", xticklabels=[\"Class 0\", \"Class 1\"], yticklabels=[\"Class 0\", \"Class 1\"])\n",
        "plt.xlabel(\"Predicted\")\n",
        "plt.ylabel(\"Actual\")\n",
        "plt.title(\"Confusion Matrix\")\n",
        "plt.show()"
      ],
      "metadata": {
        "colab": {
          "base_uri": "https://localhost:8080/",
          "height": 465
        },
        "id": "TuN092-g2Sm8",
        "outputId": "1d197669-17e1-40b4-a02d-b8dd31c1287c"
      },
      "execution_count": 116,
      "outputs": [
        {
          "output_type": "stream",
          "name": "stdout",
          "text": [
            "Confusion Matrix:\n",
            " [[466 169]\n",
            " [ 35  54]]\n"
          ]
        },
        {
          "output_type": "display_data",
          "data": {
            "text/plain": [
              "<Figure size 600x400 with 2 Axes>"
            ],
            "image/png": "[encoded data removed]"
          },
          "metadata": {}
        }
      ]
    },
    {
      "cell_type": "code",
      "source": [],
      "metadata": {
        "id": "3PV2DboK2Spa"
      },
      "execution_count": 116,
      "outputs": []
    },
    {
      "cell_type": "code",
      "source": [],
      "metadata": {
        "id": "LMxG9Iel2Sr6"
      },
      "execution_count": 116,
      "outputs": []
    },
    {
      "cell_type": "code",
      "source": [],
      "metadata": {
        "id": "FMeuJ2F82SvS"
      },
      "execution_count": 116,
      "outputs": []
    }
  ]
}