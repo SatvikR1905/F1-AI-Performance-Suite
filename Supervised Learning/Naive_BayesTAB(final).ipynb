{
  "nbformat": 4,
  "nbformat_minor": 0,
  "metadata": {
    "colab": {
      "provenance": []
    },
    "kernelspec": {
      "name": "python3",
      "display_name": "Python 3"
    },
    "language_info": {
      "name": "python"
    }
  },
  "cells": [
    {
      "cell_type": "code",
      "execution_count": 1,
      "metadata": {
        "id": "bsjHKObbpc-7"
      },
      "outputs": [],
      "source": [
        "import numpy as np\n",
        "import pandas as pd\n",
        "import matplotlib.pyplot as plt\n",
        "import seaborn as sns\n",
        "\n",
        "from sklearn.naive_bayes import CategoricalNB\n",
        "from sklearn.naive_bayes import BernoulliNB\n",
        "from sklearn.naive_bayes import MultinomialNB\n",
        "from sklearn.naive_bayes import GaussianNB\n",
        "\n",
        "from sklearn.model_selection import train_test_split\n",
        "from sklearn.metrics import confusion_matrix\n",
        "from sklearn.metrics import ConfusionMatrixDisplay\n",
        "from sklearn.preprocessing import OrdinalEncoder\n",
        "from sklearn.metrics import accuracy_score, classification_report\n",
        "from sklearn.metrics import confusion_matrix, accuracy_score, classification_report"
      ]
    },
    {
      "cell_type": "code",
      "source": [
        "df = pd.read_csv('/content/cleaned_f1_data_New.csv')"
      ],
      "metadata": {
        "id": "tNktVv_OqQrg"
      },
      "execution_count": 2,
      "outputs": []
    },
    {
      "cell_type": "code",
      "source": [
        "df.head()"
      ],
      "metadata": {
        "colab": {
          "base_uri": "https://localhost:8080/",
          "height": 463
        },
        "id": "HlZAWjPjqQtw",
        "outputId": "abb33ffe-9fce-4e8e-cacb-8961ec8d0641"
      },
      "execution_count": 3,
      "outputs": [
        {
          "output_type": "execute_result",
          "data": {
            "text/plain": [
              "   Season  Round           Race Name        Date              Circuit Country  \\\n",
              "0    1950      1  British Grand Prix  1950-05-13  Silverstone Circuit      UK   \n",
              "1    1950      1  British Grand Prix  1950-05-13  Silverstone Circuit      UK   \n",
              "2    1950      1  British Grand Prix  1950-05-13  Silverstone Circuit      UK   \n",
              "3    1950      1  British Grand Prix  1950-05-13  Silverstone Circuit      UK   \n",
              "4    1950      1  British Grand Prix  1950-05-13  Silverstone Circuit      UK   \n",
              "\n",
              "   Latitude  Longitude              Driver Driver Nationality  ...  \\\n",
              "0   52.0786   -1.01694          Bob Gerard            British  ...   \n",
              "1   52.0786   -1.01694       Cuth Harrison            British  ...   \n",
              "2   52.0786   -1.01694     David Hampshire            British  ...   \n",
              "3   52.0786   -1.01694  Brian Shawe Taylor            British  ...   \n",
              "4   52.0786   -1.01694             Joe Fry            British  ...   \n",
              "\n",
              "   Constructor  Constructor Nationality  Grid Position  Race Position  \\\n",
              "0          ERA                  British             13              6   \n",
              "1          ERA                  British             15              7   \n",
              "2     Maserati                  Italian             16              9   \n",
              "3     Maserati                  Italian             20             10   \n",
              "4     Maserati                  Italian             20             10   \n",
              "\n",
              "   Points Earned Fastest Lap (s) Fastest Lap Rank  Total Pit Stops  \\\n",
              "0            0.0       93.053598               -1               -1   \n",
              "1            0.0       93.053598               -1               -1   \n",
              "2            0.0       93.053598               -1               -1   \n",
              "3            0.0       93.053598               -1               -1   \n",
              "4            0.0       93.053598               -1               -1   \n",
              "\n",
              "   Race Laps Completed  Retirement Status  \n",
              "0                   67           Finished  \n",
              "1                   67           Finished  \n",
              "2                   64           Finished  \n",
              "3                   64           Finished  \n",
              "4                   64           Finished  \n",
              "\n",
              "[5 rows x 25 columns]"
            ],
            "text/html": [
              "\n",
              "  <div id=\"df-ddaee4a1-fba0-4dba-b382-403ff1e401b1\" class=\"colab-df-container\">\n",
              "    <div>\n",
              "<style scoped>\n",
              "    .dataframe tbody tr th:only-of-type {\n",
              "        vertical-align: middle;\n",
              "    }\n",
              "\n",
              "    .dataframe tbody tr th {\n",
              "        vertical-align: top;\n",
              "    }\n",
              "\n",
              "    .dataframe thead th {\n",
              "        text-align: right;\n",
              "    }\n",
              "</style>\n",
              "<table border=\"1\" class=\"dataframe\">\n",
              "  <thead>\n",
              "    <tr style=\"text-align: right;\">\n",
              "      <th></th>\n",
              "      <th>Season</th>\n",
              "      <th>Round</th>\n",
              "      <th>Race Name</th>\n",
              "      <th>Date</th>\n",
              "      <th>Circuit</th>\n",
              "      <th>Country</th>\n",
              "      <th>Latitude</th>\n",
              "      <th>Longitude</th>\n",
              "      <th>Driver</th>\n",
              "      <th>Driver Nationality</th>\n",
              "      <th>...</th>\n",
              "      <th>Constructor</th>\n",
              "      <th>Constructor Nationality</th>\n",
              "      <th>Grid Position</th>\n",
              "      <th>Race Position</th>\n",
              "      <th>Points Earned</th>\n",
              "      <th>Fastest Lap (s)</th>\n",
              "      <th>Fastest Lap Rank</th>\n",
              "      <th>Total Pit Stops</th>\n",
              "      <th>Race Laps Completed</th>\n",
              "      <th>Retirement Status</th>\n",
              "    </tr>\n",
              "  </thead>\n",
              "  <tbody>\n",
              "    <tr>\n",
              "      <th>0</th>\n",
              "      <td>1950</td>\n",
              "      <td>1</td>\n",
              "      <td>British Grand Prix</td>\n",
              "      <td>1950-05-13</td>\n",
              "      <td>Silverstone Circuit</td>\n",
              "      <td>UK</td>\n",
              "      <td>52.0786</td>\n",
              "      <td>-1.01694</td>\n",
              "      <td>Bob Gerard</td>\n",
              "      <td>British</td>\n",
              "      <td>...</td>\n",
              "      <td>ERA</td>\n",
              "      <td>British</td>\n",
              "      <td>13</td>\n",
              "      <td>6</td>\n",
              "      <td>0.0</td>\n",
              "      <td>93.053598</td>\n",
              "      <td>-1</td>\n",
              "      <td>-1</td>\n",
              "      <td>67</td>\n",
              "      <td>Finished</td>\n",
              "    </tr>\n",
              "    <tr>\n",
              "      <th>1</th>\n",
              "      <td>1950</td>\n",
              "      <td>1</td>\n",
              "      <td>British Grand Prix</td>\n",
              "      <td>1950-05-13</td>\n",
              "      <td>Silverstone Circuit</td>\n",
              "      <td>UK</td>\n",
              "      <td>52.0786</td>\n",
              "      <td>-1.01694</td>\n",
              "      <td>Cuth Harrison</td>\n",
              "      <td>British</td>\n",
              "      <td>...</td>\n",
              "      <td>ERA</td>\n",
              "      <td>British</td>\n",
              "      <td>15</td>\n",
              "      <td>7</td>\n",
              "      <td>0.0</td>\n",
              "      <td>93.053598</td>\n",
              "      <td>-1</td>\n",
              "      <td>-1</td>\n",
              "      <td>67</td>\n",
              "      <td>Finished</td>\n",
              "    </tr>\n",
              "    <tr>\n",
              "      <th>2</th>\n",
              "      <td>1950</td>\n",
              "      <td>1</td>\n",
              "      <td>British Grand Prix</td>\n",
              "      <td>1950-05-13</td>\n",
              "      <td>Silverstone Circuit</td>\n",
              "      <td>UK</td>\n",
              "      <td>52.0786</td>\n",
              "      <td>-1.01694</td>\n",
              "      <td>David Hampshire</td>\n",
              "      <td>British</td>\n",
              "      <td>...</td>\n",
              "      <td>Maserati</td>\n",
              "      <td>Italian</td>\n",
              "      <td>16</td>\n",
              "      <td>9</td>\n",
              "      <td>0.0</td>\n",
              "      <td>93.053598</td>\n",
              "      <td>-1</td>\n",
              "      <td>-1</td>\n",
              "      <td>64</td>\n",
              "      <td>Finished</td>\n",
              "    </tr>\n",
              "    <tr>\n",
              "      <th>3</th>\n",
              "      <td>1950</td>\n",
              "      <td>1</td>\n",
              "      <td>British Grand Prix</td>\n",
              "      <td>1950-05-13</td>\n",
              "      <td>Silverstone Circuit</td>\n",
              "      <td>UK</td>\n",
              "      <td>52.0786</td>\n",
              "      <td>-1.01694</td>\n",
              "      <td>Brian Shawe Taylor</td>\n",
              "      <td>British</td>\n",
              "      <td>...</td>\n",
              "      <td>Maserati</td>\n",
              "      <td>Italian</td>\n",
              "      <td>20</td>\n",
              "      <td>10</td>\n",
              "      <td>0.0</td>\n",
              "      <td>93.053598</td>\n",
              "      <td>-1</td>\n",
              "      <td>-1</td>\n",
              "      <td>64</td>\n",
              "      <td>Finished</td>\n",
              "    </tr>\n",
              "    <tr>\n",
              "      <th>4</th>\n",
              "      <td>1950</td>\n",
              "      <td>1</td>\n",
              "      <td>British Grand Prix</td>\n",
              "      <td>1950-05-13</td>\n",
              "      <td>Silverstone Circuit</td>\n",
              "      <td>UK</td>\n",
              "      <td>52.0786</td>\n",
              "      <td>-1.01694</td>\n",
              "      <td>Joe Fry</td>\n",
              "      <td>British</td>\n",
              "      <td>...</td>\n",
              "      <td>Maserati</td>\n",
              "      <td>Italian</td>\n",
              "      <td>20</td>\n",
              "      <td>10</td>\n",
              "      <td>0.0</td>\n",
              "      <td>93.053598</td>\n",
              "      <td>-1</td>\n",
              "      <td>-1</td>\n",
              "      <td>64</td>\n",
              "      <td>Finished</td>\n",
              "    </tr>\n",
              "  </tbody>\n",
              "</table>\n",
              "<p>5 rows × 25 columns</p>\n",
              "</div>\n",
              "    <div class=\"colab-df-buttons\">\n",
              "\n",
              "  <div class=\"colab-df-container\">\n",
              "    <button class=\"colab-df-convert\" onclick=\"convertToInteractive('df-ddaee4a1-fba0-4dba-b382-403ff1e401b1')\"\n",
              "            title=\"Convert this dataframe to an interactive table.\"\n",
              "            style=\"display:none;\">\n",
              "\n",
              "  <svg xmlns=\"http://www.w3.org/2000/svg\" height=\"24px\" viewBox=\"0 -960 960 960\">\n",
              "    <path d=\"M120-120v-720h720v720H120Zm60-500h600v-160H180v160Zm220 220h160v-160H400v160Zm0 220h160v-160H400v160ZM180-400h160v-160H180v160Zm440 0h160v-160H620v160ZM180-180h160v-160H180v160Zm440 0h160v-160H620v160Z\"/>\n",
              "  </svg>\n",
              "    </button>\n",
              "\n",
              "  <style>\n",
              "    .colab-df-container {\n",
              "      display:flex;\n",
              "      gap: 12px;\n",
              "    }\n",
              "\n",
              "    .colab-df-convert {\n",
              "      background-color: #E8F0FE;\n",
              "      border: none;\n",
              "      border-radius: 50%;\n",
              "      cursor: pointer;\n",
              "      display: none;\n",
              "      fill: #1967D2;\n",
              "      height: 32px;\n",
              "      padding: 0 0 0 0;\n",
              "      width: 32px;\n",
              "    }\n",
              "\n",
              "    .colab-df-convert:hover {\n",
              "      background-color: #E2EBFA;\n",
              "      box-shadow: 0px 1px 2px rgba(60, 64, 67, 0.3), 0px 1px 3px 1px rgba(60, 64, 67, 0.15);\n",
              "      fill: #174EA6;\n",
              "    }\n",
              "\n",
              "    .colab-df-buttons div {\n",
              "      margin-bottom: 4px;\n",
              "    }\n",
              "\n",
              "    [theme=dark] .colab-df-convert {\n",
              "      background-color: #3B4455;\n",
              "      fill: #D2E3FC;\n",
              "    }\n",
              "\n",
              "    [theme=dark] .colab-df-convert:hover {\n",
              "      background-color: #434B5C;\n",
              "      box-shadow: 0px 1px 3px 1px rgba(0, 0, 0, 0.15);\n",
              "      filter: drop-shadow(0px 1px 2px rgba(0, 0, 0, 0.3));\n",
              "      fill: #FFFFFF;\n",
              "    }\n",
              "  </style>\n",
              "\n",
              "    <script>\n",
              "      const buttonEl =\n",
              "        document.querySelector('#df-ddaee4a1-fba0-4dba-b382-403ff1e401b1 button.colab-df-convert');\n",
              "      buttonEl.style.display =\n",
              "        google.colab.kernel.accessAllowed ? 'block' : 'none';\n",
              "\n",
              "      async function convertToInteractive(key) {\n",
              "        const element = document.querySelector('#df-ddaee4a1-fba0-4dba-b382-403ff1e401b1');\n",
              "        const dataTable =\n",
              "          await google.colab.kernel.invokeFunction('convertToInteractive',\n",
              "                                                    [key], {});\n",
              "        if (!dataTable) return;\n",
              "\n",
              "        const docLinkHtml = 'Like what you see? Visit the ' +\n",
              "          '<a target=\"_blank\" href=https://colab.research.google.com/notebooks/data_table.ipynb>data table notebook</a>'\n",
              "          + ' to learn more about interactive tables.';\n",
              "        element.innerHTML = '';\n",
              "        dataTable['output_type'] = 'display_data';\n",
              "        await google.colab.output.renderOutput(dataTable, element);\n",
              "        const docLink = document.createElement('div');\n",
              "        docLink.innerHTML = docLinkHtml;\n",
              "        element.appendChild(docLink);\n",
              "      }\n",
              "    </script>\n",
              "  </div>\n",
              "\n",
              "\n",
              "<div id=\"df-9730c1a2-a00c-4d11-9272-9fd6a78f5ea7\">\n",
              "  <button class=\"colab-df-quickchart\" onclick=\"quickchart('df-9730c1a2-a00c-4d11-9272-9fd6a78f5ea7')\"\n",
              "            title=\"Suggest charts\"\n",
              "            style=\"display:none;\">\n",
              "\n",
              "<svg xmlns=\"http://www.w3.org/2000/svg\" height=\"24px\"viewBox=\"0 0 24 24\"\n",
              "     width=\"24px\">\n",
              "    <g>\n",
              "        <path d=\"M19 3H5c-1.1 0-2 .9-2 2v14c0 1.1.9 2 2 2h14c1.1 0 2-.9 2-2V5c0-1.1-.9-2-2-2zM9 17H7v-7h2v7zm4 0h-2V7h2v10zm4 0h-2v-4h2v4z\"/>\n",
              "    </g>\n",
              "</svg>\n",
              "  </button>\n",
              "\n",
              "<style>\n",
              "  .colab-df-quickchart {\n",
              "      --bg-color: #E8F0FE;\n",
              "      --fill-color: #1967D2;\n",
              "      --hover-bg-color: #E2EBFA;\n",
              "      --hover-fill-color: #174EA6;\n",
              "      --disabled-fill-color: #AAA;\n",
              "      --disabled-bg-color: #DDD;\n",
              "  }\n",
              "\n",
              "  [theme=dark] .colab-df-quickchart {\n",
              "      --bg-color: #3B4455;\n",
              "      --fill-color: #D2E3FC;\n",
              "      --hover-bg-color: #434B5C;\n",
              "      --hover-fill-color: #FFFFFF;\n",
              "      --disabled-bg-color: #3B4455;\n",
              "      --disabled-fill-color: #666;\n",
              "  }\n",
              "\n",
              "  .colab-df-quickchart {\n",
              "    background-color: var(--bg-color);\n",
              "    border: none;\n",
              "    border-radius: 50%;\n",
              "    cursor: pointer;\n",
              "    display: none;\n",
              "    fill: var(--fill-color);\n",
              "    height: 32px;\n",
              "    padding: 0;\n",
              "    width: 32px;\n",
              "  }\n",
              "\n",
              "  .colab-df-quickchart:hover {\n",
              "    background-color: var(--hover-bg-color);\n",
              "    box-shadow: 0 1px 2px rgba(60, 64, 67, 0.3), 0 1px 3px 1px rgba(60, 64, 67, 0.15);\n",
              "    fill: var(--button-hover-fill-color);\n",
              "  }\n",
              "\n",
              "  .colab-df-quickchart-complete:disabled,\n",
              "  .colab-df-quickchart-complete:disabled:hover {\n",
              "    background-color: var(--disabled-bg-color);\n",
              "    fill: var(--disabled-fill-color);\n",
              "    box-shadow: none;\n",
              "  }\n",
              "\n",
              "  .colab-df-spinner {\n",
              "    border: 2px solid var(--fill-color);\n",
              "    border-color: transparent;\n",
              "    border-bottom-color: var(--fill-color);\n",
              "    animation:\n",
              "      spin 1s steps(1) infinite;\n",
              "  }\n",
              "\n",
              "  @keyframes spin {\n",
              "    0% {\n",
              "      border-color: transparent;\n",
              "      border-bottom-color: var(--fill-color);\n",
              "      border-left-color: var(--fill-color);\n",
              "    }\n",
              "    20% {\n",
              "      border-color: transparent;\n",
              "      border-left-color: var(--fill-color);\n",
              "      border-top-color: var(--fill-color);\n",
              "    }\n",
              "    30% {\n",
              "      border-color: transparent;\n",
              "      border-left-color: var(--fill-color);\n",
              "      border-top-color: var(--fill-color);\n",
              "      border-right-color: var(--fill-color);\n",
              "    }\n",
              "    40% {\n",
              "      border-color: transparent;\n",
              "      border-right-color: var(--fill-color);\n",
              "      border-top-color: var(--fill-color);\n",
              "    }\n",
              "    60% {\n",
              "      border-color: transparent;\n",
              "      border-right-color: var(--fill-color);\n",
              "    }\n",
              "    80% {\n",
              "      border-color: transparent;\n",
              "      border-right-color: var(--fill-color);\n",
              "      border-bottom-color: var(--fill-color);\n",
              "    }\n",
              "    90% {\n",
              "      border-color: transparent;\n",
              "      border-bottom-color: var(--fill-color);\n",
              "    }\n",
              "  }\n",
              "</style>\n",
              "\n",
              "  <script>\n",
              "    async function quickchart(key) {\n",
              "      const quickchartButtonEl =\n",
              "        document.querySelector('#' + key + ' button');\n",
              "      quickchartButtonEl.disabled = true;  // To prevent multiple clicks.\n",
              "      quickchartButtonEl.classList.add('colab-df-spinner');\n",
              "      try {\n",
              "        const charts = await google.colab.kernel.invokeFunction(\n",
              "            'suggestCharts', [key], {});\n",
              "      } catch (error) {\n",
              "        console.error('Error during call to suggestCharts:', error);\n",
              "      }\n",
              "      quickchartButtonEl.classList.remove('colab-df-spinner');\n",
              "      quickchartButtonEl.classList.add('colab-df-quickchart-complete');\n",
              "    }\n",
              "    (() => {\n",
              "      let quickchartButtonEl =\n",
              "        document.querySelector('#df-9730c1a2-a00c-4d11-9272-9fd6a78f5ea7 button');\n",
              "      quickchartButtonEl.style.display =\n",
              "        google.colab.kernel.accessAllowed ? 'block' : 'none';\n",
              "    })();\n",
              "  </script>\n",
              "</div>\n",
              "\n",
              "    </div>\n",
              "  </div>\n"
            ],
            "application/vnd.google.colaboratory.intrinsic+json": {
              "type": "dataframe",
              "variable_name": "df"
            }
          },
          "metadata": {},
          "execution_count": 3
        }
      ]
    },
    {
      "cell_type": "code",
      "source": [
        "to_drop = ['Driver Championship Points','Latitude', 'Longitude','Driver Experience (Years)', 'Driver Fastest Lap Time', 'Driver Fastest Lap Rank', 'Points Earned', 'Fastest Lap (s)', 'Fastest Lap Rank', 'Total Pit Stops','Date','Country','Driver Nationality','Round','Season','Driver']\n",
        "df = df.drop(columns=to_drop, errors='ignore')\n",
        "df.columns"
      ],
      "metadata": {
        "colab": {
          "base_uri": "https://localhost:8080/"
        },
        "id": "m9HVelLlqQwI",
        "outputId": "846062e5-fdd2-4fcb-811d-30ab09e2fded"
      },
      "execution_count": 4,
      "outputs": [
        {
          "output_type": "execute_result",
          "data": {
            "text/plain": [
              "Index(['Race Name', 'Circuit', 'Driver Age', 'Constructor',\n",
              "       'Constructor Nationality', 'Grid Position', 'Race Position',\n",
              "       'Race Laps Completed', 'Retirement Status'],\n",
              "      dtype='object')"
            ]
          },
          "metadata": {},
          "execution_count": 4
        }
      ]
    },
    {
      "cell_type": "code",
      "source": [
        "df.to_csv('Before_Encoding_f1_data.csv', index=False)"
      ],
      "metadata": {
        "id": "4CK4lvGthQYV"
      },
      "execution_count": 5,
      "outputs": []
    },
    {
      "cell_type": "code",
      "source": [
        "categorical_columns = df.select_dtypes(include=['object', 'category']).columns\n",
        "print(\"Categorical Columns:\", categorical_columns)"
      ],
      "metadata": {
        "colab": {
          "base_uri": "https://localhost:8080/"
        },
        "id": "ATQgTY9vqQ1q",
        "outputId": "a6ec4c9b-2842-4d7a-92d8-9978e0406d53"
      },
      "execution_count": 6,
      "outputs": [
        {
          "output_type": "stream",
          "name": "stdout",
          "text": [
            "Categorical Columns: Index(['Race Name', 'Circuit', 'Constructor', 'Constructor Nationality',\n",
            "       'Retirement Status'],\n",
            "      dtype='object')\n"
          ]
        }
      ]
    },
    {
      "cell_type": "code",
      "source": [
        "numeric_columns = df.select_dtypes(include=['number']).columns\n",
        "print(\"Numeric Columns:\", numeric_columns)"
      ],
      "metadata": {
        "colab": {
          "base_uri": "https://localhost:8080/"
        },
        "id": "w4dTbqTSr0di",
        "outputId": "efc1c7d5-0d77-4d71-834c-6c428a1dcc17"
      },
      "execution_count": 7,
      "outputs": [
        {
          "output_type": "stream",
          "name": "stdout",
          "text": [
            "Numeric Columns: Index(['Driver Age', 'Grid Position', 'Race Position', 'Race Laps Completed'], dtype='object')\n"
          ]
        }
      ]
    },
    {
      "cell_type": "markdown",
      "source": [
        "Categorical Values"
      ],
      "metadata": {
        "id": "I2-kkS1NKwUd"
      }
    },
    {
      "cell_type": "code",
      "source": [
        "categorical_cols = df.select_dtypes(include=['object', 'category']).columns.tolist()\n",
        "print(\"Categorical Columns:\", categorical_cols)\n",
        "\n",
        "categories_list = [df[col].unique().tolist() for col in categorical_cols]\n",
        "\n",
        "encoder = OrdinalEncoder(categories=categories_list)\n",
        "df[categorical_cols] = encoder.fit_transform(df[categorical_cols])\n",
        "\n",
        "print(df.head())"
      ],
      "metadata": {
        "colab": {
          "base_uri": "https://localhost:8080/"
        },
        "id": "OU_c7grzIG6e",
        "outputId": "41d7888d-6130-4c32-dc60-1beaef2817d1"
      },
      "execution_count": 8,
      "outputs": [
        {
          "output_type": "stream",
          "name": "stdout",
          "text": [
            "Categorical Columns: ['Race Name', 'Circuit', 'Constructor', 'Constructor Nationality', 'Retirement Status']\n",
            "   Race Name  Circuit  Driver Age  Constructor  Constructor Nationality  \\\n",
            "0        0.0      0.0          36          0.0                      0.0   \n",
            "1        0.0      0.0          44          0.0                      0.0   \n",
            "2        0.0      0.0          33          1.0                      1.0   \n",
            "3        0.0      0.0          35          1.0                      1.0   \n",
            "4        0.0      0.0          35          1.0                      1.0   \n",
            "\n",
            "   Grid Position  Race Position  Race Laps Completed  Retirement Status  \n",
            "0             13              6                   67                0.0  \n",
            "1             15              7                   67                0.0  \n",
            "2             16              9                   64                0.0  \n",
            "3             20             10                   64                0.0  \n",
            "4             20             10                   64                0.0  \n"
          ]
        }
      ]
    },
    {
      "cell_type": "markdown",
      "source": [
        "Numerical Values"
      ],
      "metadata": {
        "id": "Et-uzJT6Ky3s"
      }
    },
    {
      "cell_type": "code",
      "source": [
        "df['Driver Age Binary'] = (df['Driver Age'] > 30).astype(int)\n",
        "df['Race Laps Binary'] = (df['Race Laps Completed'] > 50).astype(int)\n",
        "df['Grid Position Binary'] = (df['Grid Position'] <= 10).astype(int)\n"
      ],
      "metadata": {
        "id": "LB3t0fh92aZl"
      },
      "execution_count": 9,
      "outputs": []
    },
    {
      "cell_type": "code",
      "source": [
        "df = df.drop(['Driver Age','Race Laps Completed','Grid Position'], axis=1)"
      ],
      "metadata": {
        "id": "Y3MYlL_dLDRz"
      },
      "execution_count": 10,
      "outputs": []
    },
    {
      "cell_type": "code",
      "source": [
        "print(df.head())"
      ],
      "metadata": {
        "colab": {
          "base_uri": "https://localhost:8080/"
        },
        "id": "xaJmg5ll3AUm",
        "outputId": "bbbea6ad-14f4-426b-b643-28ad01a1cd4b"
      },
      "execution_count": 11,
      "outputs": [
        {
          "output_type": "stream",
          "name": "stdout",
          "text": [
            "   Race Name  Circuit  Constructor  Constructor Nationality  Race Position  \\\n",
            "0        0.0      0.0          0.0                      0.0              6   \n",
            "1        0.0      0.0          0.0                      0.0              7   \n",
            "2        0.0      0.0          1.0                      1.0              9   \n",
            "3        0.0      0.0          1.0                      1.0             10   \n",
            "4        0.0      0.0          1.0                      1.0             10   \n",
            "\n",
            "   Retirement Status  Driver Age Binary  Race Laps Binary  \\\n",
            "0                0.0                  1                 1   \n",
            "1                0.0                  1                 1   \n",
            "2                0.0                  1                 1   \n",
            "3                0.0                  1                 1   \n",
            "4                0.0                  1                 1   \n",
            "\n",
            "   Grid Position Binary  \n",
            "0                     0  \n",
            "1                     0  \n",
            "2                     0  \n",
            "3                     0  \n",
            "4                     0  \n"
          ]
        }
      ]
    },
    {
      "cell_type": "markdown",
      "source": [
        "Gaussian Model"
      ],
      "metadata": {
        "id": "bQ8dZMq_0uwW"
      }
    },
    {
      "cell_type": "markdown",
      "source": [
        "Fine Tuning"
      ],
      "metadata": {
        "id": "jLXaF5ZtaGlY"
      }
    },
    {
      "cell_type": "code",
      "source": [
        "df['Race Position'].unique()"
      ],
      "metadata": {
        "colab": {
          "base_uri": "https://localhost:8080/"
        },
        "id": "Phn1-614OVrc",
        "outputId": "142900f7-1672-4f50-c7d8-53ab03d47dd1"
      },
      "execution_count": 12,
      "outputs": [
        {
          "output_type": "execute_result",
          "data": {
            "text/plain": [
              "array([ 6,  7,  9, 10, 11, 12, 13, 14, 15, 16, 17, 19, 20, 21,  8, 18, 22,\n",
              "       23, 24, 25, 26, 27, 28, 29, 30, 31, 32, 33,  4,  3,  5, 34, 35, 36,\n",
              "       37])"
            ]
          },
          "metadata": {},
          "execution_count": 12
        }
      ]
    },
    {
      "cell_type": "code",
      "source": [
        "def categorize_positions(df):\n",
        "    # Create a new column for position category based on two groups\n",
        "    df['Position_Category'] = ''\n",
        "\n",
        "    # Apply conditions\n",
        "    df.loc[df['Race Position'] < 10, 'Position_Category'] = 'Front Row'\n",
        "    df.loc[df['Race Position'] >= 10, 'Position_Category'] = 'Back Row'\n",
        "\n",
        "    return df\n"
      ],
      "metadata": {
        "id": "sBtU8hBTOVt5"
      },
      "execution_count": 13,
      "outputs": []
    },
    {
      "cell_type": "code",
      "source": [
        "df = categorize_positions(df)"
      ],
      "metadata": {
        "id": "AOqrLUFJOVwP"
      },
      "execution_count": 14,
      "outputs": []
    },
    {
      "cell_type": "code",
      "source": [
        "df['Position_Category'].value_counts()"
      ],
      "metadata": {
        "colab": {
          "base_uri": "https://localhost:8080/",
          "height": 178
        },
        "id": "y0DFwMoBOVy8",
        "outputId": "1e5675c9-634b-41c5-fd2e-489fcf160cbe"
      },
      "execution_count": 15,
      "outputs": [
        {
          "output_type": "execute_result",
          "data": {
            "text/plain": [
              "Position_Category\n",
              "Back Row     2935\n",
              "Front Row     681\n",
              "Name: count, dtype: int64"
            ],
            "text/html": [
              "<div>\n",
              "<style scoped>\n",
              "    .dataframe tbody tr th:only-of-type {\n",
              "        vertical-align: middle;\n",
              "    }\n",
              "\n",
              "    .dataframe tbody tr th {\n",
              "        vertical-align: top;\n",
              "    }\n",
              "\n",
              "    .dataframe thead th {\n",
              "        text-align: right;\n",
              "    }\n",
              "</style>\n",
              "<table border=\"1\" class=\"dataframe\">\n",
              "  <thead>\n",
              "    <tr style=\"text-align: right;\">\n",
              "      <th></th>\n",
              "      <th>count</th>\n",
              "    </tr>\n",
              "    <tr>\n",
              "      <th>Position_Category</th>\n",
              "      <th></th>\n",
              "    </tr>\n",
              "  </thead>\n",
              "  <tbody>\n",
              "    <tr>\n",
              "      <th>Back Row</th>\n",
              "      <td>2935</td>\n",
              "    </tr>\n",
              "    <tr>\n",
              "      <th>Front Row</th>\n",
              "      <td>681</td>\n",
              "    </tr>\n",
              "  </tbody>\n",
              "</table>\n",
              "</div><br><label><b>dtype:</b> int64</label>"
            ]
          },
          "metadata": {},
          "execution_count": 15
        }
      ]
    },
    {
      "cell_type": "code",
      "source": [
        "Position_Category=[\"Front Row\", \"Back Row\"]\n",
        "MyOrdEncoder=OrdinalEncoder(categories=[Position_Category])\n",
        "df[\"Position_Category\"]=MyOrdEncoder.fit_transform(df[[\"Position_Category\"]])\n",
        "print(df)"
      ],
      "metadata": {
        "colab": {
          "base_uri": "https://localhost:8080/"
        },
        "id": "cfC5b0MAOV1m",
        "outputId": "8896996e-cd88-4aaa-ffb5-9ee528b5780d"
      },
      "execution_count": 16,
      "outputs": [
        {
          "output_type": "stream",
          "name": "stdout",
          "text": [
            "      Race Name  Circuit  Constructor  Constructor Nationality  Race Position  \\\n",
            "0           0.0      0.0          0.0                      0.0              6   \n",
            "1           0.0      0.0          0.0                      0.0              7   \n",
            "2           0.0      0.0          1.0                      1.0              9   \n",
            "3           0.0      0.0          1.0                      1.0             10   \n",
            "4           0.0      0.0          1.0                      1.0             10   \n",
            "...         ...      ...          ...                      ...            ...   \n",
            "3611       14.0     38.0          3.0                      3.0             20   \n",
            "3612        1.0      1.0          5.0                      1.0             20   \n",
            "3613       27.0     39.0        156.0                      1.0             19   \n",
            "3614       27.0     39.0        154.0                      4.0             20   \n",
            "3615       26.0     23.0          5.0                      1.0             20   \n",
            "\n",
            "      Retirement Status  Driver Age Binary  Race Laps Binary  \\\n",
            "0                   0.0                  1                 1   \n",
            "1                   0.0                  1                 1   \n",
            "2                   0.0                  1                 1   \n",
            "3                   0.0                  1                 1   \n",
            "4                   0.0                  1                 1   \n",
            "...                 ...                ...               ...   \n",
            "3611                1.0                  1                 0   \n",
            "3612                1.0                  0                 0   \n",
            "3613                1.0                  0                 0   \n",
            "3614                1.0                  0                 0   \n",
            "3615                1.0                  0                 0   \n",
            "\n",
            "      Grid Position Binary  Position_Category  \n",
            "0                        0                0.0  \n",
            "1                        0                0.0  \n",
            "2                        0                0.0  \n",
            "3                        0                1.0  \n",
            "4                        0                1.0  \n",
            "...                    ...                ...  \n",
            "3611                     0                1.0  \n",
            "3612                     1                1.0  \n",
            "3613                     0                1.0  \n",
            "3614                     1                1.0  \n",
            "3615                     1                1.0  \n",
            "\n",
            "[3616 rows x 10 columns]\n"
          ]
        }
      ]
    },
    {
      "cell_type": "code",
      "source": [
        "df.head()"
      ],
      "metadata": {
        "colab": {
          "base_uri": "https://localhost:8080/",
          "height": 223
        },
        "id": "t0pMEAB0QJ6G",
        "outputId": "f3122902-33b3-4a46-ba0a-18dc761ffa5a"
      },
      "execution_count": 17,
      "outputs": [
        {
          "output_type": "execute_result",
          "data": {
            "text/plain": [
              "   Race Name  Circuit  Constructor  Constructor Nationality  Race Position  \\\n",
              "0        0.0      0.0          0.0                      0.0              6   \n",
              "1        0.0      0.0          0.0                      0.0              7   \n",
              "2        0.0      0.0          1.0                      1.0              9   \n",
              "3        0.0      0.0          1.0                      1.0             10   \n",
              "4        0.0      0.0          1.0                      1.0             10   \n",
              "\n",
              "   Retirement Status  Driver Age Binary  Race Laps Binary  \\\n",
              "0                0.0                  1                 1   \n",
              "1                0.0                  1                 1   \n",
              "2                0.0                  1                 1   \n",
              "3                0.0                  1                 1   \n",
              "4                0.0                  1                 1   \n",
              "\n",
              "   Grid Position Binary  Position_Category  \n",
              "0                     0                0.0  \n",
              "1                     0                0.0  \n",
              "2                     0                0.0  \n",
              "3                     0                1.0  \n",
              "4                     0                1.0  "
            ],
            "text/html": [
              "\n",
              "  <div id=\"df-02aab869-647b-44b2-b14e-f197a2544347\" class=\"colab-df-container\">\n",
              "    <div>\n",
              "<style scoped>\n",
              "    .dataframe tbody tr th:only-of-type {\n",
              "        vertical-align: middle;\n",
              "    }\n",
              "\n",
              "    .dataframe tbody tr th {\n",
              "        vertical-align: top;\n",
              "    }\n",
              "\n",
              "    .dataframe thead th {\n",
              "        text-align: right;\n",
              "    }\n",
              "</style>\n",
              "<table border=\"1\" class=\"dataframe\">\n",
              "  <thead>\n",
              "    <tr style=\"text-align: right;\">\n",
              "      <th></th>\n",
              "      <th>Race Name</th>\n",
              "      <th>Circuit</th>\n",
              "      <th>Constructor</th>\n",
              "      <th>Constructor Nationality</th>\n",
              "      <th>Race Position</th>\n",
              "      <th>Retirement Status</th>\n",
              "      <th>Driver Age Binary</th>\n",
              "      <th>Race Laps Binary</th>\n",
              "      <th>Grid Position Binary</th>\n",
              "      <th>Position_Category</th>\n",
              "    </tr>\n",
              "  </thead>\n",
              "  <tbody>\n",
              "    <tr>\n",
              "      <th>0</th>\n",
              "      <td>0.0</td>\n",
              "      <td>0.0</td>\n",
              "      <td>0.0</td>\n",
              "      <td>0.0</td>\n",
              "      <td>6</td>\n",
              "      <td>0.0</td>\n",
              "      <td>1</td>\n",
              "      <td>1</td>\n",
              "      <td>0</td>\n",
              "      <td>0.0</td>\n",
              "    </tr>\n",
              "    <tr>\n",
              "      <th>1</th>\n",
              "      <td>0.0</td>\n",
              "      <td>0.0</td>\n",
              "      <td>0.0</td>\n",
              "      <td>0.0</td>\n",
              "      <td>7</td>\n",
              "      <td>0.0</td>\n",
              "      <td>1</td>\n",
              "      <td>1</td>\n",
              "      <td>0</td>\n",
              "      <td>0.0</td>\n",
              "    </tr>\n",
              "    <tr>\n",
              "      <th>2</th>\n",
              "      <td>0.0</td>\n",
              "      <td>0.0</td>\n",
              "      <td>1.0</td>\n",
              "      <td>1.0</td>\n",
              "      <td>9</td>\n",
              "      <td>0.0</td>\n",
              "      <td>1</td>\n",
              "      <td>1</td>\n",
              "      <td>0</td>\n",
              "      <td>0.0</td>\n",
              "    </tr>\n",
              "    <tr>\n",
              "      <th>3</th>\n",
              "      <td>0.0</td>\n",
              "      <td>0.0</td>\n",
              "      <td>1.0</td>\n",
              "      <td>1.0</td>\n",
              "      <td>10</td>\n",
              "      <td>0.0</td>\n",
              "      <td>1</td>\n",
              "      <td>1</td>\n",
              "      <td>0</td>\n",
              "      <td>1.0</td>\n",
              "    </tr>\n",
              "    <tr>\n",
              "      <th>4</th>\n",
              "      <td>0.0</td>\n",
              "      <td>0.0</td>\n",
              "      <td>1.0</td>\n",
              "      <td>1.0</td>\n",
              "      <td>10</td>\n",
              "      <td>0.0</td>\n",
              "      <td>1</td>\n",
              "      <td>1</td>\n",
              "      <td>0</td>\n",
              "      <td>1.0</td>\n",
              "    </tr>\n",
              "  </tbody>\n",
              "</table>\n",
              "</div>\n",
              "    <div class=\"colab-df-buttons\">\n",
              "\n",
              "  <div class=\"colab-df-container\">\n",
              "    <button class=\"colab-df-convert\" onclick=\"convertToInteractive('df-02aab869-647b-44b2-b14e-f197a2544347')\"\n",
              "            title=\"Convert this dataframe to an interactive table.\"\n",
              "            style=\"display:none;\">\n",
              "\n",
              "  <svg xmlns=\"http://www.w3.org/2000/svg\" height=\"24px\" viewBox=\"0 -960 960 960\">\n",
              "    <path d=\"M120-120v-720h720v720H120Zm60-500h600v-160H180v160Zm220 220h160v-160H400v160Zm0 220h160v-160H400v160ZM180-400h160v-160H180v160Zm440 0h160v-160H620v160ZM180-180h160v-160H180v160Zm440 0h160v-160H620v160Z\"/>\n",
              "  </svg>\n",
              "    </button>\n",
              "\n",
              "  <style>\n",
              "    .colab-df-container {\n",
              "      display:flex;\n",
              "      gap: 12px;\n",
              "    }\n",
              "\n",
              "    .colab-df-convert {\n",
              "      background-color: #E8F0FE;\n",
              "      border: none;\n",
              "      border-radius: 50%;\n",
              "      cursor: pointer;\n",
              "      display: none;\n",
              "      fill: #1967D2;\n",
              "      height: 32px;\n",
              "      padding: 0 0 0 0;\n",
              "      width: 32px;\n",
              "    }\n",
              "\n",
              "    .colab-df-convert:hover {\n",
              "      background-color: #E2EBFA;\n",
              "      box-shadow: 0px 1px 2px rgba(60, 64, 67, 0.3), 0px 1px 3px 1px rgba(60, 64, 67, 0.15);\n",
              "      fill: #174EA6;\n",
              "    }\n",
              "\n",
              "    .colab-df-buttons div {\n",
              "      margin-bottom: 4px;\n",
              "    }\n",
              "\n",
              "    [theme=dark] .colab-df-convert {\n",
              "      background-color: #3B4455;\n",
              "      fill: #D2E3FC;\n",
              "    }\n",
              "\n",
              "    [theme=dark] .colab-df-convert:hover {\n",
              "      background-color: #434B5C;\n",
              "      box-shadow: 0px 1px 3px 1px rgba(0, 0, 0, 0.15);\n",
              "      filter: drop-shadow(0px 1px 2px rgba(0, 0, 0, 0.3));\n",
              "      fill: #FFFFFF;\n",
              "    }\n",
              "  </style>\n",
              "\n",
              "    <script>\n",
              "      const buttonEl =\n",
              "        document.querySelector('#df-02aab869-647b-44b2-b14e-f197a2544347 button.colab-df-convert');\n",
              "      buttonEl.style.display =\n",
              "        google.colab.kernel.accessAllowed ? 'block' : 'none';\n",
              "\n",
              "      async function convertToInteractive(key) {\n",
              "        const element = document.querySelector('#df-02aab869-647b-44b2-b14e-f197a2544347');\n",
              "        const dataTable =\n",
              "          await google.colab.kernel.invokeFunction('convertToInteractive',\n",
              "                                                    [key], {});\n",
              "        if (!dataTable) return;\n",
              "\n",
              "        const docLinkHtml = 'Like what you see? Visit the ' +\n",
              "          '<a target=\"_blank\" href=https://colab.research.google.com/notebooks/data_table.ipynb>data table notebook</a>'\n",
              "          + ' to learn more about interactive tables.';\n",
              "        element.innerHTML = '';\n",
              "        dataTable['output_type'] = 'display_data';\n",
              "        await google.colab.output.renderOutput(dataTable, element);\n",
              "        const docLink = document.createElement('div');\n",
              "        docLink.innerHTML = docLinkHtml;\n",
              "        element.appendChild(docLink);\n",
              "      }\n",
              "    </script>\n",
              "  </div>\n",
              "\n",
              "\n",
              "<div id=\"df-141ae50e-1244-49c3-9390-ad628c2f77b2\">\n",
              "  <button class=\"colab-df-quickchart\" onclick=\"quickchart('df-141ae50e-1244-49c3-9390-ad628c2f77b2')\"\n",
              "            title=\"Suggest charts\"\n",
              "            style=\"display:none;\">\n",
              "\n",
              "<svg xmlns=\"http://www.w3.org/2000/svg\" height=\"24px\"viewBox=\"0 0 24 24\"\n",
              "     width=\"24px\">\n",
              "    <g>\n",
              "        <path d=\"M19 3H5c-1.1 0-2 .9-2 2v14c0 1.1.9 2 2 2h14c1.1 0 2-.9 2-2V5c0-1.1-.9-2-2-2zM9 17H7v-7h2v7zm4 0h-2V7h2v10zm4 0h-2v-4h2v4z\"/>\n",
              "    </g>\n",
              "</svg>\n",
              "  </button>\n",
              "\n",
              "<style>\n",
              "  .colab-df-quickchart {\n",
              "      --bg-color: #E8F0FE;\n",
              "      --fill-color: #1967D2;\n",
              "      --hover-bg-color: #E2EBFA;\n",
              "      --hover-fill-color: #174EA6;\n",
              "      --disabled-fill-color: #AAA;\n",
              "      --disabled-bg-color: #DDD;\n",
              "  }\n",
              "\n",
              "  [theme=dark] .colab-df-quickchart {\n",
              "      --bg-color: #3B4455;\n",
              "      --fill-color: #D2E3FC;\n",
              "      --hover-bg-color: #434B5C;\n",
              "      --hover-fill-color: #FFFFFF;\n",
              "      --disabled-bg-color: #3B4455;\n",
              "      --disabled-fill-color: #666;\n",
              "  }\n",
              "\n",
              "  .colab-df-quickchart {\n",
              "    background-color: var(--bg-color);\n",
              "    border: none;\n",
              "    border-radius: 50%;\n",
              "    cursor: pointer;\n",
              "    display: none;\n",
              "    fill: var(--fill-color);\n",
              "    height: 32px;\n",
              "    padding: 0;\n",
              "    width: 32px;\n",
              "  }\n",
              "\n",
              "  .colab-df-quickchart:hover {\n",
              "    background-color: var(--hover-bg-color);\n",
              "    box-shadow: 0 1px 2px rgba(60, 64, 67, 0.3), 0 1px 3px 1px rgba(60, 64, 67, 0.15);\n",
              "    fill: var(--button-hover-fill-color);\n",
              "  }\n",
              "\n",
              "  .colab-df-quickchart-complete:disabled,\n",
              "  .colab-df-quickchart-complete:disabled:hover {\n",
              "    background-color: var(--disabled-bg-color);\n",
              "    fill: var(--disabled-fill-color);\n",
              "    box-shadow: none;\n",
              "  }\n",
              "\n",
              "  .colab-df-spinner {\n",
              "    border: 2px solid var(--fill-color);\n",
              "    border-color: transparent;\n",
              "    border-bottom-color: var(--fill-color);\n",
              "    animation:\n",
              "      spin 1s steps(1) infinite;\n",
              "  }\n",
              "\n",
              "  @keyframes spin {\n",
              "    0% {\n",
              "      border-color: transparent;\n",
              "      border-bottom-color: var(--fill-color);\n",
              "      border-left-color: var(--fill-color);\n",
              "    }\n",
              "    20% {\n",
              "      border-color: transparent;\n",
              "      border-left-color: var(--fill-color);\n",
              "      border-top-color: var(--fill-color);\n",
              "    }\n",
              "    30% {\n",
              "      border-color: transparent;\n",
              "      border-left-color: var(--fill-color);\n",
              "      border-top-color: var(--fill-color);\n",
              "      border-right-color: var(--fill-color);\n",
              "    }\n",
              "    40% {\n",
              "      border-color: transparent;\n",
              "      border-right-color: var(--fill-color);\n",
              "      border-top-color: var(--fill-color);\n",
              "    }\n",
              "    60% {\n",
              "      border-color: transparent;\n",
              "      border-right-color: var(--fill-color);\n",
              "    }\n",
              "    80% {\n",
              "      border-color: transparent;\n",
              "      border-right-color: var(--fill-color);\n",
              "      border-bottom-color: var(--fill-color);\n",
              "    }\n",
              "    90% {\n",
              "      border-color: transparent;\n",
              "      border-bottom-color: var(--fill-color);\n",
              "    }\n",
              "  }\n",
              "</style>\n",
              "\n",
              "  <script>\n",
              "    async function quickchart(key) {\n",
              "      const quickchartButtonEl =\n",
              "        document.querySelector('#' + key + ' button');\n",
              "      quickchartButtonEl.disabled = true;  // To prevent multiple clicks.\n",
              "      quickchartButtonEl.classList.add('colab-df-spinner');\n",
              "      try {\n",
              "        const charts = await google.colab.kernel.invokeFunction(\n",
              "            'suggestCharts', [key], {});\n",
              "      } catch (error) {\n",
              "        console.error('Error during call to suggestCharts:', error);\n",
              "      }\n",
              "      quickchartButtonEl.classList.remove('colab-df-spinner');\n",
              "      quickchartButtonEl.classList.add('colab-df-quickchart-complete');\n",
              "    }\n",
              "    (() => {\n",
              "      let quickchartButtonEl =\n",
              "        document.querySelector('#df-141ae50e-1244-49c3-9390-ad628c2f77b2 button');\n",
              "      quickchartButtonEl.style.display =\n",
              "        google.colab.kernel.accessAllowed ? 'block' : 'none';\n",
              "    })();\n",
              "  </script>\n",
              "</div>\n",
              "\n",
              "    </div>\n",
              "  </div>\n"
            ],
            "application/vnd.google.colaboratory.intrinsic+json": {
              "type": "dataframe",
              "variable_name": "df",
              "summary": "{\n  \"name\": \"df\",\n  \"rows\": 3616,\n  \"fields\": [\n    {\n      \"column\": \"Race Name\",\n      \"properties\": {\n        \"dtype\": \"number\",\n        \"std\": 4.775154865386098,\n        \"min\": 0.0,\n        \"max\": 27.0,\n        \"num_unique_values\": 28,\n        \"samples\": [\n          9.0,\n          25.0,\n          8.0\n        ],\n        \"semantic_type\": \"\",\n        \"description\": \"\"\n      }\n    },\n    {\n      \"column\": \"Circuit\",\n      \"properties\": {\n        \"dtype\": \"number\",\n        \"std\": 9.065785938937244,\n        \"min\": 0.0,\n        \"max\": 39.0,\n        \"num_unique_values\": 40,\n        \"samples\": [\n          19.0,\n          16.0,\n          15.0\n        ],\n        \"semantic_type\": \"\",\n        \"description\": \"\"\n      }\n    },\n    {\n      \"column\": \"Constructor\",\n      \"properties\": {\n        \"dtype\": \"number\",\n        \"std\": 43.72923331173796,\n        \"min\": 0.0,\n        \"max\": 156.0,\n        \"num_unique_values\": 157,\n        \"samples\": [\n          126.0,\n          45.0,\n          133.0\n        ],\n        \"semantic_type\": \"\",\n        \"description\": \"\"\n      }\n    },\n    {\n      \"column\": \"Constructor Nationality\",\n      \"properties\": {\n        \"dtype\": \"number\",\n        \"std\": 2.754260716133605,\n        \"min\": 0.0,\n        \"max\": 18.0,\n        \"num_unique_values\": 19,\n        \"samples\": [\n          0.0,\n          5.0,\n          11.0\n        ],\n        \"semantic_type\": \"\",\n        \"description\": \"\"\n      }\n    },\n    {\n      \"column\": \"Race Position\",\n      \"properties\": {\n        \"dtype\": \"number\",\n        \"std\": 6,\n        \"min\": 3,\n        \"max\": 37,\n        \"num_unique_values\": 35,\n        \"samples\": [\n          32,\n          21,\n          30\n        ],\n        \"semantic_type\": \"\",\n        \"description\": \"\"\n      }\n    },\n    {\n      \"column\": \"Retirement Status\",\n      \"properties\": {\n        \"dtype\": \"number\",\n        \"std\": 0.40410465958021397,\n        \"min\": 0.0,\n        \"max\": 1.0,\n        \"num_unique_values\": 2,\n        \"samples\": [\n          1.0,\n          0.0\n        ],\n        \"semantic_type\": \"\",\n        \"description\": \"\"\n      }\n    },\n    {\n      \"column\": \"Driver Age Binary\",\n      \"properties\": {\n        \"dtype\": \"number\",\n        \"std\": 0,\n        \"min\": 0,\n        \"max\": 1,\n        \"num_unique_values\": 2,\n        \"samples\": [\n          0,\n          1\n        ],\n        \"semantic_type\": \"\",\n        \"description\": \"\"\n      }\n    },\n    {\n      \"column\": \"Race Laps Binary\",\n      \"properties\": {\n        \"dtype\": \"number\",\n        \"std\": 0,\n        \"min\": 0,\n        \"max\": 1,\n        \"num_unique_values\": 2,\n        \"samples\": [\n          0,\n          1\n        ],\n        \"semantic_type\": \"\",\n        \"description\": \"\"\n      }\n    },\n    {\n      \"column\": \"Grid Position Binary\",\n      \"properties\": {\n        \"dtype\": \"number\",\n        \"std\": 0,\n        \"min\": 0,\n        \"max\": 1,\n        \"num_unique_values\": 2,\n        \"samples\": [\n          1,\n          0\n        ],\n        \"semantic_type\": \"\",\n        \"description\": \"\"\n      }\n    },\n    {\n      \"column\": \"Position_Category\",\n      \"properties\": {\n        \"dtype\": \"number\",\n        \"std\": 0.3910292518628554,\n        \"min\": 0.0,\n        \"max\": 1.0,\n        \"num_unique_values\": 2,\n        \"samples\": [\n          1.0,\n          0.0\n        ],\n        \"semantic_type\": \"\",\n        \"description\": \"\"\n      }\n    }\n  ]\n}"
            }
          },
          "metadata": {},
          "execution_count": 17
        }
      ]
    },
    {
      "cell_type": "code",
      "source": [
        "df.to_csv('After_Encoding_f1_data.csv', index=False)"
      ],
      "metadata": {
        "id": "LFYqsrRthimB"
      },
      "execution_count": 18,
      "outputs": []
    },
    {
      "cell_type": "code",
      "source": [
        "X = df.drop(['Position_Category'], axis=1)  # Drops the target column, keeps the rest as features\n",
        "y = df['Position_Category']"
      ],
      "metadata": {
        "id": "lU1VLamNOV4I"
      },
      "execution_count": 19,
      "outputs": []
    },
    {
      "cell_type": "markdown",
      "source": [
        "Gaussian Model"
      ],
      "metadata": {
        "id": "awz2PnYXrSdg"
      }
    },
    {
      "cell_type": "code",
      "source": [
        "X_train, X_test, y_train, y_test = train_test_split(X, y, test_size=0.2, random_state=42)\n",
        "\n",
        "# Initialize the Naive Bayes classifier\n",
        "nb_model = GaussianNB()\n",
        "\n",
        "# Train the model\n",
        "nb_model.fit(X_train, y_train)\n",
        "\n",
        "# Predict on test data\n",
        "y_pred = nb_model.predict(X_test)\n",
        "\n",
        "# Evaluate the model\n",
        "print(\"Accuracy:\", accuracy_score(y_test, y_pred))\n",
        "print(\"Classification Report:\\n\", classification_report(y_test, y_pred))"
      ],
      "metadata": {
        "colab": {
          "base_uri": "https://localhost:8080/"
        },
        "id": "idnosYaSOV7l",
        "outputId": "a12470b4-ccb4-4580-f718-dd8173b3b67d"
      },
      "execution_count": 20,
      "outputs": [
        {
          "output_type": "stream",
          "name": "stdout",
          "text": [
            "Accuracy: 0.919889502762431\n",
            "Classification Report:\n",
            "               precision    recall  f1-score   support\n",
            "\n",
            "         0.0       0.78      0.81      0.80       140\n",
            "         1.0       0.96      0.95      0.95       584\n",
            "\n",
            "    accuracy                           0.92       724\n",
            "   macro avg       0.87      0.88      0.87       724\n",
            "weighted avg       0.92      0.92      0.92       724\n",
            "\n"
          ]
        }
      ]
    },
    {
      "cell_type": "code",
      "source": [
        "# Calculate the confusion matrix\n",
        "cm = confusion_matrix(y_test, y_pred)\n",
        "\n",
        "# Display the confusion matrix\n",
        "print(\"Confusion Matrix:\\n\", cm)\n",
        "\n",
        "# Plot confusion matrix\n",
        "plt.figure(figsize=(6, 4))\n",
        "sns.heatmap(cm, annot=True, fmt=\"d\", cmap=\"Blues\", xticklabels=[\"Class 0\", \"Class 1\"], yticklabels=[\"Class 0\", \"Class 1\"])\n",
        "plt.xlabel(\"Predicted\")\n",
        "plt.ylabel(\"Actual\")\n",
        "plt.title(\"Confusion Matrix\")\n",
        "plt.show()"
      ],
      "metadata": {
        "colab": {
          "base_uri": "https://localhost:8080/",
          "height": 465
        },
        "id": "ZooEDgh7RI6b",
        "outputId": "3380f636-2810-4def-c59d-09fbe74b2b07"
      },
      "execution_count": 21,
      "outputs": [
        {
          "output_type": "stream",
          "name": "stdout",
          "text": [
            "Confusion Matrix:\n",
            " [[114  26]\n",
            " [ 32 552]]\n"
          ]
        },
        {
          "output_type": "display_data",
          "data": {
            "text/plain": [
              "<Figure size 600x400 with 2 Axes>"
            ],
            "image/png": "[encoded data removed]"
          },
          "metadata": {}
        }
      ]
    },
    {
      "cell_type": "code",
      "source": [
        "X = df.drop(['Position_Category'], axis=1)  # Drops the target column, keeps the rest as features\n",
        "y = df['Position_Category']"
      ],
      "metadata": {
        "id": "UDGLnTtvWkZ9"
      },
      "execution_count": 22,
      "outputs": []
    },
    {
      "cell_type": "markdown",
      "source": [
        "Multinomial NB"
      ],
      "metadata": {
        "id": "JCjtR7z2dbAU"
      }
    },
    {
      "cell_type": "code",
      "source": [
        "X_train, X_test, y_train, y_test = train_test_split(X, y, test_size=0.2, random_state=42)\n",
        "\n",
        "# Initialize the Naive Bayes classifier\n",
        "mb_model = MultinomialNB()\n",
        "\n",
        "# Train the model\n",
        "mb_model.fit(X_train, y_train)\n",
        "\n",
        "# Predict on test data\n",
        "y_pred = mb_model.predict(X_test)\n",
        "\n",
        "# Evaluate the model\n",
        "print(\"Accuracy:\", accuracy_score(y_test, y_pred))\n",
        "print(\"Classification Report:\\n\", classification_report(y_test, y_pred))"
      ],
      "metadata": {
        "colab": {
          "base_uri": "https://localhost:8080/"
        },
        "id": "CaGMOZqmMRSZ",
        "outputId": "18793fe3-adbd-495f-a36e-e9287de49a01"
      },
      "execution_count": 23,
      "outputs": [
        {
          "output_type": "stream",
          "name": "stdout",
          "text": [
            "Accuracy: 0.8107734806629834\n",
            "Classification Report:\n",
            "               precision    recall  f1-score   support\n",
            "\n",
            "         0.0       0.51      0.58      0.54       140\n",
            "         1.0       0.90      0.87      0.88       584\n",
            "\n",
            "    accuracy                           0.81       724\n",
            "   macro avg       0.70      0.72      0.71       724\n",
            "weighted avg       0.82      0.81      0.82       724\n",
            "\n"
          ]
        }
      ]
    },
    {
      "cell_type": "code",
      "source": [],
      "metadata": {
        "id": "w4O79fxEdJa3"
      },
      "execution_count": null,
      "outputs": []
    },
    {
      "cell_type": "markdown",
      "source": [
        "When alpha = 1"
      ],
      "metadata": {
        "id": "cM8HbmQFNeat"
      }
    },
    {
      "cell_type": "code",
      "source": [
        "X_train, X_test, y_train, y_test = train_test_split(X, y, test_size=0.2, random_state=42)\n",
        "\n",
        "# Initialize the Naive Bayes classifier\n",
        "mb_model = MultinomialNB(alpha=1)\n",
        "\n",
        "# Train the model\n",
        "mb_model.fit(X_train, y_train)\n",
        "\n",
        "# Predict on test data\n",
        "y_pred = mb_model.predict(X_test)\n",
        "\n",
        "# Evaluate the model\n",
        "print(\"Accuracy:\", accuracy_score(y_test, y_pred))\n",
        "print(\"Classification Report:\\n\", classification_report(y_test, y_pred))"
      ],
      "metadata": {
        "colab": {
          "base_uri": "https://localhost:8080/"
        },
        "id": "st5T1OQxbQq8",
        "outputId": "ed918901-9438-4aaf-8d07-0380b1806a34"
      },
      "execution_count": 24,
      "outputs": [
        {
          "output_type": "stream",
          "name": "stdout",
          "text": [
            "Accuracy: 0.8107734806629834\n",
            "Classification Report:\n",
            "               precision    recall  f1-score   support\n",
            "\n",
            "         0.0       0.51      0.58      0.54       140\n",
            "         1.0       0.90      0.87      0.88       584\n",
            "\n",
            "    accuracy                           0.81       724\n",
            "   macro avg       0.70      0.72      0.71       724\n",
            "weighted avg       0.82      0.81      0.82       724\n",
            "\n"
          ]
        }
      ]
    },
    {
      "cell_type": "code",
      "source": [
        "# Calculate the confusion matrix\n",
        "cm = confusion_matrix(y_test, y_pred)\n",
        "\n",
        "# Display the confusion matrix\n",
        "print(\"Confusion Matrix:\\n\", cm)\n",
        "\n",
        "# Plot confusion matrix\n",
        "plt.figure(figsize=(6, 4))\n",
        "sns.heatmap(cm, annot=True, fmt=\"d\", cmap=\"Blues\", xticklabels=[\"Class 0\", \"Class 1\"], yticklabels=[\"Class 0\", \"Class 1\"])\n",
        "plt.xlabel(\"Predicted\")\n",
        "plt.ylabel(\"Actual\")\n",
        "plt.title(\"Confusion Matrix\")\n",
        "plt.show()"
      ],
      "metadata": {
        "colab": {
          "base_uri": "https://localhost:8080/",
          "height": 465
        },
        "id": "ihZZEC2LROJi",
        "outputId": "2c40b9d5-ceee-49e6-a8d6-f61b07246c4b"
      },
      "execution_count": 25,
      "outputs": [
        {
          "output_type": "stream",
          "name": "stdout",
          "text": [
            "Confusion Matrix:\n",
            " [[ 81  59]\n",
            " [ 78 506]]\n"
          ]
        },
        {
          "output_type": "display_data",
          "data": {
            "text/plain": [
              "<Figure size 600x400 with 2 Axes>"
            ],
            "image/png": "[encoded data removed]"
          },
          "metadata": {}
        }
      ]
    },
    {
      "cell_type": "markdown",
      "source": [
        "Data Preparation only for Bernoulli\n",
        "\n",
        "Convert even Categorical values into o's and 1's"
      ],
      "metadata": {
        "id": "AeRvfIelNuBx"
      }
    },
    {
      "cell_type": "code",
      "source": [
        "categorical_columns = ['Race Name', 'Circuit', 'Constructor',\n",
        "                       'Constructor Nationality', 'Retirement Status']\n",
        "\n",
        "df = pd.get_dummies(df, columns=categorical_columns, drop_first=False)\n",
        "df = df.astype(int)"
      ],
      "metadata": {
        "id": "yUQl8IOAOuLp"
      },
      "execution_count": 26,
      "outputs": []
    },
    {
      "cell_type": "code",
      "source": [
        "df.head()"
      ],
      "metadata": {
        "colab": {
          "base_uri": "https://localhost:8080/",
          "height": 290
        },
        "id": "ULWboN3uOyDR",
        "outputId": "eda4f920-df66-4b18-f45d-95e5af08f16b"
      },
      "execution_count": 27,
      "outputs": [
        {
          "output_type": "execute_result",
          "data": {
            "text/plain": [
              "   Race Position  Driver Age Binary  Race Laps Binary  Grid Position Binary  \\\n",
              "0              6                  1                 1                     0   \n",
              "1              7                  1                 1                     0   \n",
              "2              9                  1                 1                     0   \n",
              "3             10                  1                 1                     0   \n",
              "4             10                  1                 1                     0   \n",
              "\n",
              "   Position_Category  Race Name_0.0  Race Name_1.0  Race Name_2.0  \\\n",
              "0                  0              1              0              0   \n",
              "1                  0              1              0              0   \n",
              "2                  0              1              0              0   \n",
              "3                  1              1              0              0   \n",
              "4                  1              1              0              0   \n",
              "\n",
              "   Race Name_3.0  Race Name_4.0  ...  Constructor Nationality_11.0  \\\n",
              "0              0              0  ...                             0   \n",
              "1              0              0  ...                             0   \n",
              "2              0              0  ...                             0   \n",
              "3              0              0  ...                             0   \n",
              "4              0              0  ...                             0   \n",
              "\n",
              "   Constructor Nationality_12.0  Constructor Nationality_13.0  \\\n",
              "0                             0                             0   \n",
              "1                             0                             0   \n",
              "2                             0                             0   \n",
              "3                             0                             0   \n",
              "4                             0                             0   \n",
              "\n",
              "   Constructor Nationality_14.0  Constructor Nationality_15.0  \\\n",
              "0                             0                             0   \n",
              "1                             0                             0   \n",
              "2                             0                             0   \n",
              "3                             0                             0   \n",
              "4                             0                             0   \n",
              "\n",
              "   Constructor Nationality_16.0  Constructor Nationality_17.0  \\\n",
              "0                             0                             0   \n",
              "1                             0                             0   \n",
              "2                             0                             0   \n",
              "3                             0                             0   \n",
              "4                             0                             0   \n",
              "\n",
              "   Constructor Nationality_18.0  Retirement Status_0.0  Retirement Status_1.0  \n",
              "0                             0                      1                      0  \n",
              "1                             0                      1                      0  \n",
              "2                             0                      1                      0  \n",
              "3                             0                      1                      0  \n",
              "4                             0                      1                      0  \n",
              "\n",
              "[5 rows x 251 columns]"
            ],
            "text/html": [
              "\n",
              "  <div id=\"df-9db629a6-7fdb-4cf0-904c-7eb7047fb946\" class=\"colab-df-container\">\n",
              "    <div>\n",
              "<style scoped>\n",
              "    .dataframe tbody tr th:only-of-type {\n",
              "        vertical-align: middle;\n",
              "    }\n",
              "\n",
              "    .dataframe tbody tr th {\n",
              "        vertical-align: top;\n",
              "    }\n",
              "\n",
              "    .dataframe thead th {\n",
              "        text-align: right;\n",
              "    }\n",
              "</style>\n",
              "<table border=\"1\" class=\"dataframe\">\n",
              "  <thead>\n",
              "    <tr style=\"text-align: right;\">\n",
              "      <th></th>\n",
              "      <th>Race Position</th>\n",
              "      <th>Driver Age Binary</th>\n",
              "      <th>Race Laps Binary</th>\n",
              "      <th>Grid Position Binary</th>\n",
              "      <th>Position_Category</th>\n",
              "      <th>Race Name_0.0</th>\n",
              "      <th>Race Name_1.0</th>\n",
              "      <th>Race Name_2.0</th>\n",
              "      <th>Race Name_3.0</th>\n",
              "      <th>Race Name_4.0</th>\n",
              "      <th>...</th>\n",
              "      <th>Constructor Nationality_11.0</th>\n",
              "      <th>Constructor Nationality_12.0</th>\n",
              "      <th>Constructor Nationality_13.0</th>\n",
              "      <th>Constructor Nationality_14.0</th>\n",
              "      <th>Constructor Nationality_15.0</th>\n",
              "      <th>Constructor Nationality_16.0</th>\n",
              "      <th>Constructor Nationality_17.0</th>\n",
              "      <th>Constructor Nationality_18.0</th>\n",
              "      <th>Retirement Status_0.0</th>\n",
              "      <th>Retirement Status_1.0</th>\n",
              "    </tr>\n",
              "  </thead>\n",
              "  <tbody>\n",
              "    <tr>\n",
              "      <th>0</th>\n",
              "      <td>6</td>\n",
              "      <td>1</td>\n",
              "      <td>1</td>\n",
              "      <td>0</td>\n",
              "      <td>0</td>\n",
              "      <td>1</td>\n",
              "      <td>0</td>\n",
              "      <td>0</td>\n",
              "      <td>0</td>\n",
              "      <td>0</td>\n",
              "      <td>...</td>\n",
              "      <td>0</td>\n",
              "      <td>0</td>\n",
              "      <td>0</td>\n",
              "      <td>0</td>\n",
              "      <td>0</td>\n",
              "      <td>0</td>\n",
              "      <td>0</td>\n",
              "      <td>0</td>\n",
              "      <td>1</td>\n",
              "      <td>0</td>\n",
              "    </tr>\n",
              "    <tr>\n",
              "      <th>1</th>\n",
              "      <td>7</td>\n",
              "      <td>1</td>\n",
              "      <td>1</td>\n",
              "      <td>0</td>\n",
              "      <td>0</td>\n",
              "      <td>1</td>\n",
              "      <td>0</td>\n",
              "      <td>0</td>\n",
              "      <td>0</td>\n",
              "      <td>0</td>\n",
              "      <td>...</td>\n",
              "      <td>0</td>\n",
              "      <td>0</td>\n",
              "      <td>0</td>\n",
              "      <td>0</td>\n",
              "      <td>0</td>\n",
              "      <td>0</td>\n",
              "      <td>0</td>\n",
              "      <td>0</td>\n",
              "      <td>1</td>\n",
              "      <td>0</td>\n",
              "    </tr>\n",
              "    <tr>\n",
              "      <th>2</th>\n",
              "      <td>9</td>\n",
              "      <td>1</td>\n",
              "      <td>1</td>\n",
              "      <td>0</td>\n",
              "      <td>0</td>\n",
              "      <td>1</td>\n",
              "      <td>0</td>\n",
              "      <td>0</td>\n",
              "      <td>0</td>\n",
              "      <td>0</td>\n",
              "      <td>...</td>\n",
              "      <td>0</td>\n",
              "      <td>0</td>\n",
              "      <td>0</td>\n",
              "      <td>0</td>\n",
              "      <td>0</td>\n",
              "      <td>0</td>\n",
              "      <td>0</td>\n",
              "      <td>0</td>\n",
              "      <td>1</td>\n",
              "      <td>0</td>\n",
              "    </tr>\n",
              "    <tr>\n",
              "      <th>3</th>\n",
              "      <td>10</td>\n",
              "      <td>1</td>\n",
              "      <td>1</td>\n",
              "      <td>0</td>\n",
              "      <td>1</td>\n",
              "      <td>1</td>\n",
              "      <td>0</td>\n",
              "      <td>0</td>\n",
              "      <td>0</td>\n",
              "      <td>0</td>\n",
              "      <td>...</td>\n",
              "      <td>0</td>\n",
              "      <td>0</td>\n",
              "      <td>0</td>\n",
              "      <td>0</td>\n",
              "      <td>0</td>\n",
              "      <td>0</td>\n",
              "      <td>0</td>\n",
              "      <td>0</td>\n",
              "      <td>1</td>\n",
              "      <td>0</td>\n",
              "    </tr>\n",
              "    <tr>\n",
              "      <th>4</th>\n",
              "      <td>10</td>\n",
              "      <td>1</td>\n",
              "      <td>1</td>\n",
              "      <td>0</td>\n",
              "      <td>1</td>\n",
              "      <td>1</td>\n",
              "      <td>0</td>\n",
              "      <td>0</td>\n",
              "      <td>0</td>\n",
              "      <td>0</td>\n",
              "      <td>...</td>\n",
              "      <td>0</td>\n",
              "      <td>0</td>\n",
              "      <td>0</td>\n",
              "      <td>0</td>\n",
              "      <td>0</td>\n",
              "      <td>0</td>\n",
              "      <td>0</td>\n",
              "      <td>0</td>\n",
              "      <td>1</td>\n",
              "      <td>0</td>\n",
              "    </tr>\n",
              "  </tbody>\n",
              "</table>\n",
              "<p>5 rows × 251 columns</p>\n",
              "</div>\n",
              "    <div class=\"colab-df-buttons\">\n",
              "\n",
              "  <div class=\"colab-df-container\">\n",
              "    <button class=\"colab-df-convert\" onclick=\"convertToInteractive('df-9db629a6-7fdb-4cf0-904c-7eb7047fb946')\"\n",
              "            title=\"Convert this dataframe to an interactive table.\"\n",
              "            style=\"display:none;\">\n",
              "\n",
              "  <svg xmlns=\"http://www.w3.org/2000/svg\" height=\"24px\" viewBox=\"0 -960 960 960\">\n",
              "    <path d=\"M120-120v-720h720v720H120Zm60-500h600v-160H180v160Zm220 220h160v-160H400v160Zm0 220h160v-160H400v160ZM180-400h160v-160H180v160Zm440 0h160v-160H620v160ZM180-180h160v-160H180v160Zm440 0h160v-160H620v160Z\"/>\n",
              "  </svg>\n",
              "    </button>\n",
              "\n",
              "  <style>\n",
              "    .colab-df-container {\n",
              "      display:flex;\n",
              "      gap: 12px;\n",
              "    }\n",
              "\n",
              "    .colab-df-convert {\n",
              "      background-color: #E8F0FE;\n",
              "      border: none;\n",
              "      border-radius: 50%;\n",
              "      cursor: pointer;\n",
              "      display: none;\n",
              "      fill: #1967D2;\n",
              "      height: 32px;\n",
              "      padding: 0 0 0 0;\n",
              "      width: 32px;\n",
              "    }\n",
              "\n",
              "    .colab-df-convert:hover {\n",
              "      background-color: #E2EBFA;\n",
              "      box-shadow: 0px 1px 2px rgba(60, 64, 67, 0.3), 0px 1px 3px 1px rgba(60, 64, 67, 0.15);\n",
              "      fill: #174EA6;\n",
              "    }\n",
              "\n",
              "    .colab-df-buttons div {\n",
              "      margin-bottom: 4px;\n",
              "    }\n",
              "\n",
              "    [theme=dark] .colab-df-convert {\n",
              "      background-color: #3B4455;\n",
              "      fill: #D2E3FC;\n",
              "    }\n",
              "\n",
              "    [theme=dark] .colab-df-convert:hover {\n",
              "      background-color: #434B5C;\n",
              "      box-shadow: 0px 1px 3px 1px rgba(0, 0, 0, 0.15);\n",
              "      filter: drop-shadow(0px 1px 2px rgba(0, 0, 0, 0.3));\n",
              "      fill: #FFFFFF;\n",
              "    }\n",
              "  </style>\n",
              "\n",
              "    <script>\n",
              "      const buttonEl =\n",
              "        document.querySelector('#df-9db629a6-7fdb-4cf0-904c-7eb7047fb946 button.colab-df-convert');\n",
              "      buttonEl.style.display =\n",
              "        google.colab.kernel.accessAllowed ? 'block' : 'none';\n",
              "\n",
              "      async function convertToInteractive(key) {\n",
              "        const element = document.querySelector('#df-9db629a6-7fdb-4cf0-904c-7eb7047fb946');\n",
              "        const dataTable =\n",
              "          await google.colab.kernel.invokeFunction('convertToInteractive',\n",
              "                                                    [key], {});\n",
              "        if (!dataTable) return;\n",
              "\n",
              "        const docLinkHtml = 'Like what you see? Visit the ' +\n",
              "          '<a target=\"_blank\" href=https://colab.research.google.com/notebooks/data_table.ipynb>data table notebook</a>'\n",
              "          + ' to learn more about interactive tables.';\n",
              "        element.innerHTML = '';\n",
              "        dataTable['output_type'] = 'display_data';\n",
              "        await google.colab.output.renderOutput(dataTable, element);\n",
              "        const docLink = document.createElement('div');\n",
              "        docLink.innerHTML = docLinkHtml;\n",
              "        element.appendChild(docLink);\n",
              "      }\n",
              "    </script>\n",
              "  </div>\n",
              "\n",
              "\n",
              "<div id=\"df-b51413ad-2f7a-4de5-b052-e4435515f777\">\n",
              "  <button class=\"colab-df-quickchart\" onclick=\"quickchart('df-b51413ad-2f7a-4de5-b052-e4435515f777')\"\n",
              "            title=\"Suggest charts\"\n",
              "            style=\"display:none;\">\n",
              "\n",
              "<svg xmlns=\"http://www.w3.org/2000/svg\" height=\"24px\"viewBox=\"0 0 24 24\"\n",
              "     width=\"24px\">\n",
              "    <g>\n",
              "        <path d=\"M19 3H5c-1.1 0-2 .9-2 2v14c0 1.1.9 2 2 2h14c1.1 0 2-.9 2-2V5c0-1.1-.9-2-2-2zM9 17H7v-7h2v7zm4 0h-2V7h2v10zm4 0h-2v-4h2v4z\"/>\n",
              "    </g>\n",
              "</svg>\n",
              "  </button>\n",
              "\n",
              "<style>\n",
              "  .colab-df-quickchart {\n",
              "      --bg-color: #E8F0FE;\n",
              "      --fill-color: #1967D2;\n",
              "      --hover-bg-color: #E2EBFA;\n",
              "      --hover-fill-color: #174EA6;\n",
              "      --disabled-fill-color: #AAA;\n",
              "      --disabled-bg-color: #DDD;\n",
              "  }\n",
              "\n",
              "  [theme=dark] .colab-df-quickchart {\n",
              "      --bg-color: #3B4455;\n",
              "      --fill-color: #D2E3FC;\n",
              "      --hover-bg-color: #434B5C;\n",
              "      --hover-fill-color: #FFFFFF;\n",
              "      --disabled-bg-color: #3B4455;\n",
              "      --disabled-fill-color: #666;\n",
              "  }\n",
              "\n",
              "  .colab-df-quickchart {\n",
              "    background-color: var(--bg-color);\n",
              "    border: none;\n",
              "    border-radius: 50%;\n",
              "    cursor: pointer;\n",
              "    display: none;\n",
              "    fill: var(--fill-color);\n",
              "    height: 32px;\n",
              "    padding: 0;\n",
              "    width: 32px;\n",
              "  }\n",
              "\n",
              "  .colab-df-quickchart:hover {\n",
              "    background-color: var(--hover-bg-color);\n",
              "    box-shadow: 0 1px 2px rgba(60, 64, 67, 0.3), 0 1px 3px 1px rgba(60, 64, 67, 0.15);\n",
              "    fill: var(--button-hover-fill-color);\n",
              "  }\n",
              "\n",
              "  .colab-df-quickchart-complete:disabled,\n",
              "  .colab-df-quickchart-complete:disabled:hover {\n",
              "    background-color: var(--disabled-bg-color);\n",
              "    fill: var(--disabled-fill-color);\n",
              "    box-shadow: none;\n",
              "  }\n",
              "\n",
              "  .colab-df-spinner {\n",
              "    border: 2px solid var(--fill-color);\n",
              "    border-color: transparent;\n",
              "    border-bottom-color: var(--fill-color);\n",
              "    animation:\n",
              "      spin 1s steps(1) infinite;\n",
              "  }\n",
              "\n",
              "  @keyframes spin {\n",
              "    0% {\n",
              "      border-color: transparent;\n",
              "      border-bottom-color: var(--fill-color);\n",
              "      border-left-color: var(--fill-color);\n",
              "    }\n",
              "    20% {\n",
              "      border-color: transparent;\n",
              "      border-left-color: var(--fill-color);\n",
              "      border-top-color: var(--fill-color);\n",
              "    }\n",
              "    30% {\n",
              "      border-color: transparent;\n",
              "      border-left-color: var(--fill-color);\n",
              "      border-top-color: var(--fill-color);\n",
              "      border-right-color: var(--fill-color);\n",
              "    }\n",
              "    40% {\n",
              "      border-color: transparent;\n",
              "      border-right-color: var(--fill-color);\n",
              "      border-top-color: var(--fill-color);\n",
              "    }\n",
              "    60% {\n",
              "      border-color: transparent;\n",
              "      border-right-color: var(--fill-color);\n",
              "    }\n",
              "    80% {\n",
              "      border-color: transparent;\n",
              "      border-right-color: var(--fill-color);\n",
              "      border-bottom-color: var(--fill-color);\n",
              "    }\n",
              "    90% {\n",
              "      border-color: transparent;\n",
              "      border-bottom-color: var(--fill-color);\n",
              "    }\n",
              "  }\n",
              "</style>\n",
              "\n",
              "  <script>\n",
              "    async function quickchart(key) {\n",
              "      const quickchartButtonEl =\n",
              "        document.querySelector('#' + key + ' button');\n",
              "      quickchartButtonEl.disabled = true;  // To prevent multiple clicks.\n",
              "      quickchartButtonEl.classList.add('colab-df-spinner');\n",
              "      try {\n",
              "        const charts = await google.colab.kernel.invokeFunction(\n",
              "            'suggestCharts', [key], {});\n",
              "      } catch (error) {\n",
              "        console.error('Error during call to suggestCharts:', error);\n",
              "      }\n",
              "      quickchartButtonEl.classList.remove('colab-df-spinner');\n",
              "      quickchartButtonEl.classList.add('colab-df-quickchart-complete');\n",
              "    }\n",
              "    (() => {\n",
              "      let quickchartButtonEl =\n",
              "        document.querySelector('#df-b51413ad-2f7a-4de5-b052-e4435515f777 button');\n",
              "      quickchartButtonEl.style.display =\n",
              "        google.colab.kernel.accessAllowed ? 'block' : 'none';\n",
              "    })();\n",
              "  </script>\n",
              "</div>\n",
              "\n",
              "    </div>\n",
              "  </div>\n"
            ],
            "application/vnd.google.colaboratory.intrinsic+json": {
              "type": "dataframe",
              "variable_name": "df"
            }
          },
          "metadata": {},
          "execution_count": 27
        }
      ]
    },
    {
      "cell_type": "code",
      "source": [
        "print(df.head())"
      ],
      "metadata": {
        "colab": {
          "base_uri": "https://localhost:8080/"
        },
        "id": "ckr5Izo9PtVJ",
        "outputId": "ec396ad2-a25d-46c4-e73d-ade363666345"
      },
      "execution_count": 28,
      "outputs": [
        {
          "output_type": "stream",
          "name": "stdout",
          "text": [
            "   Race Position  Driver Age Binary  Race Laps Binary  Grid Position Binary  \\\n",
            "0              6                  1                 1                     0   \n",
            "1              7                  1                 1                     0   \n",
            "2              9                  1                 1                     0   \n",
            "3             10                  1                 1                     0   \n",
            "4             10                  1                 1                     0   \n",
            "\n",
            "   Position_Category  Race Name_0.0  Race Name_1.0  Race Name_2.0  \\\n",
            "0                  0              1              0              0   \n",
            "1                  0              1              0              0   \n",
            "2                  0              1              0              0   \n",
            "3                  1              1              0              0   \n",
            "4                  1              1              0              0   \n",
            "\n",
            "   Race Name_3.0  Race Name_4.0  ...  Constructor Nationality_11.0  \\\n",
            "0              0              0  ...                             0   \n",
            "1              0              0  ...                             0   \n",
            "2              0              0  ...                             0   \n",
            "3              0              0  ...                             0   \n",
            "4              0              0  ...                             0   \n",
            "\n",
            "   Constructor Nationality_12.0  Constructor Nationality_13.0  \\\n",
            "0                             0                             0   \n",
            "1                             0                             0   \n",
            "2                             0                             0   \n",
            "3                             0                             0   \n",
            "4                             0                             0   \n",
            "\n",
            "   Constructor Nationality_14.0  Constructor Nationality_15.0  \\\n",
            "0                             0                             0   \n",
            "1                             0                             0   \n",
            "2                             0                             0   \n",
            "3                             0                             0   \n",
            "4                             0                             0   \n",
            "\n",
            "   Constructor Nationality_16.0  Constructor Nationality_17.0  \\\n",
            "0                             0                             0   \n",
            "1                             0                             0   \n",
            "2                             0                             0   \n",
            "3                             0                             0   \n",
            "4                             0                             0   \n",
            "\n",
            "   Constructor Nationality_18.0  Retirement Status_0.0  Retirement Status_1.0  \n",
            "0                             0                      1                      0  \n",
            "1                             0                      1                      0  \n",
            "2                             0                      1                      0  \n",
            "3                             0                      1                      0  \n",
            "4                             0                      1                      0  \n",
            "\n",
            "[5 rows x 251 columns]\n"
          ]
        }
      ]
    },
    {
      "cell_type": "markdown",
      "source": [
        "Bernoulli NB"
      ],
      "metadata": {
        "id": "c5242R-ufXbs"
      }
    },
    {
      "cell_type": "code",
      "source": [
        "X = df.drop(['Position_Category'], axis=1)  # Drops the target column, keeps the rest as features\n",
        "y = df['Position_Category']"
      ],
      "metadata": {
        "id": "8S3dn2t1Wazo"
      },
      "execution_count": 29,
      "outputs": []
    },
    {
      "cell_type": "code",
      "source": [
        "X_train, X_test, y_train, y_test = train_test_split(X, y, test_size=0.2, random_state=42)\n",
        "\n",
        "# Initialize the Bernoulli Naive Bayes classifier\n",
        "bnb_model = BernoulliNB()\n",
        "\n",
        "# Train the model\n",
        "bnb_model.fit(X_train, y_train)\n",
        "\n",
        "# Predict on test data\n",
        "y_pred = bnb_model.predict(X_test)\n",
        "\n",
        "# Evaluate the model\n",
        "print(\"Accuracy:\", accuracy_score(y_test, y_pred))\n",
        "print(\"Classification Report:\\n\", classification_report(y_test, y_pred))"
      ],
      "metadata": {
        "colab": {
          "base_uri": "https://localhost:8080/"
        },
        "id": "xMKvbQWNbQyl",
        "outputId": "3210d888-d0d2-4235-a55e-db6aef74adc2"
      },
      "execution_count": 30,
      "outputs": [
        {
          "output_type": "stream",
          "name": "stdout",
          "text": [
            "Accuracy: 0.9171270718232044\n",
            "Classification Report:\n",
            "               precision    recall  f1-score   support\n",
            "\n",
            "           0       0.78      0.79      0.79       140\n",
            "           1       0.95      0.95      0.95       584\n",
            "\n",
            "    accuracy                           0.92       724\n",
            "   macro avg       0.87      0.87      0.87       724\n",
            "weighted avg       0.92      0.92      0.92       724\n",
            "\n"
          ]
        }
      ]
    },
    {
      "cell_type": "markdown",
      "source": [
        "When alpha = 1"
      ],
      "metadata": {
        "id": "cPufmwc7Powl"
      }
    },
    {
      "cell_type": "code",
      "source": [
        "X_train, X_test, y_train, y_test = train_test_split(X, y, test_size=0.2, random_state=42)\n",
        "\n",
        "# Initialize the Bernoulli Naive Bayes classifier\n",
        "bnb_model = BernoulliNB(alpha=1)\n",
        "\n",
        "# Train the model\n",
        "bnb_model.fit(X_train, y_train)\n",
        "\n",
        "# Predict on test data\n",
        "y_pred = bnb_model.predict(X_test)\n",
        "\n",
        "# Evaluate the model\n",
        "print(\"Accuracy:\", accuracy_score(y_test, y_pred))\n",
        "print(\"Classification Report:\\n\", classification_report(y_test, y_pred))"
      ],
      "metadata": {
        "colab": {
          "base_uri": "https://localhost:8080/"
        },
        "id": "iNsHSTmJbQ0h",
        "outputId": "0bb51d52-9e7e-4e60-8573-25dd3fcd4049"
      },
      "execution_count": 31,
      "outputs": [
        {
          "output_type": "stream",
          "name": "stdout",
          "text": [
            "Accuracy: 0.9171270718232044\n",
            "Classification Report:\n",
            "               precision    recall  f1-score   support\n",
            "\n",
            "           0       0.78      0.79      0.79       140\n",
            "           1       0.95      0.95      0.95       584\n",
            "\n",
            "    accuracy                           0.92       724\n",
            "   macro avg       0.87      0.87      0.87       724\n",
            "weighted avg       0.92      0.92      0.92       724\n",
            "\n"
          ]
        }
      ]
    },
    {
      "cell_type": "code",
      "source": [
        "# Calculate the confusion matrix\n",
        "cm = confusion_matrix(y_test, y_pred)\n",
        "\n",
        "# Display the confusion matrix\n",
        "print(\"Confusion Matrix:\\n\", cm)\n",
        "\n",
        "# Plot confusion matrix\n",
        "plt.figure(figsize=(6, 4))\n",
        "sns.heatmap(cm, annot=True, fmt=\"d\", cmap=\"Blues\", xticklabels=[\"Class 0\", \"Class 1\"], yticklabels=[\"Class 0\", \"Class 1\"])\n",
        "plt.xlabel(\"Predicted\")\n",
        "plt.ylabel(\"Actual\")\n",
        "plt.title(\"Confusion Matrix\")\n",
        "plt.show()\n"
      ],
      "metadata": {
        "colab": {
          "base_uri": "https://localhost:8080/",
          "height": 465
        },
        "id": "TUnqePFajdCg",
        "outputId": "307dfd7d-d772-4f8a-bd68-30e2a393a26b"
      },
      "execution_count": 32,
      "outputs": [
        {
          "output_type": "stream",
          "name": "stdout",
          "text": [
            "Confusion Matrix:\n",
            " [[111  29]\n",
            " [ 31 553]]\n"
          ]
        },
        {
          "output_type": "display_data",
          "data": {
            "text/plain": [
              "<Figure size 600x400 with 2 Axes>"
            ],
            "image/png": "[encoded data removed]"
          },
          "metadata": {}
        }
      ]
    },
    {
      "cell_type": "code",
      "source": [],
      "metadata": {
        "id": "_flDNRgPjdFG"
      },
      "execution_count": 32,
      "outputs": []
    },
    {
      "cell_type": "code",
      "source": [],
      "metadata": {
        "id": "WwtmlMF0jdHX"
      },
      "execution_count": 32,
      "outputs": []
    },
    {
      "cell_type": "code",
      "source": [],
      "metadata": {
        "id": "8rqlR1jsjdJ4"
      },
      "execution_count": 32,
      "outputs": []
    },
    {
      "cell_type": "code",
      "source": [],
      "metadata": {
        "id": "8mc4gLHEjdNY"
      },
      "execution_count": 32,
      "outputs": []
    }
  ]
}